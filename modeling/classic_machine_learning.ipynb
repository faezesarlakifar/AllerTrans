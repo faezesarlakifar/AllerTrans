{
  "nbformat": 4,
  "nbformat_minor": 0,
  "metadata": {
    "colab": {
      "provenance": [],
      "collapsed_sections": [
        "5KUYvzGCwoSJ",
        "KC4DbQHYiLKq",
        "GqZOZiq_gpVd",
        "O0xhW1r9h0FU",
        "Bf1-pUFQWMdP",
        "FT86F85idS6L",
        "CgBPdw8DdcIa",
        "Cr-PauE7tAD_"
      ],
      "toc_visible": true,
      "authorship_tag": "ABX9TyNhYCVoBpqJ7GK9XP5Uvt2u",
      "include_colab_link": true
    },
    "kernelspec": {
      "name": "python3",
      "display_name": "Python 3"
    },
    "language_info": {
      "name": "python"
    }
  },
  "cells": [
    {
      "cell_type": "markdown",
      "metadata": {
        "id": "view-in-github",
        "colab_type": "text"
      },
      "source": [
        "<a href=\"https://colab.research.google.com/github/faezesarlakifar/AllerTrans/blob/main/modeling/classic_machine_learning.ipynb\" target=\"_parent\"><img src=\"https://colab.research.google.com/assets/colab-badge.svg\" alt=\"Open In Colab\"/></a>"
      ]
    },
    {
      "cell_type": "code",
      "execution_count": null,
      "metadata": {
        "cellView": "form",
        "id": "XeftCMsKQTeN"
      },
      "outputs": [],
      "source": [
        "# @markdown import necessaries\n",
        "from google.colab import drive\n",
        "from tqdm.notebook import tqdm\n",
        "import torch\n",
        "import pandas as pd\n",
        "from sklearn.model_selection import train_test_split\n",
        "from sklearn.metrics import accuracy_score\n",
        "from sklearn.ensemble import RandomForestClassifier\n",
        "from sklearn.svm import SVC\n",
        "from sklearn.neighbors import KNeighborsClassifier\n",
        "from xgboost import XGBClassifier\n",
        "from sklearn.neural_network import MLPClassifier\n",
        "from sklearn.metrics import classification_report, confusion_matrix\n",
        "import torch.nn as nn\n",
        "from sklearn.preprocessing import StandardScaler\n",
        "from sklearn.preprocessing import MinMaxScaler\n",
        "import numpy as np\n",
        "from sklearn.model_selection import GridSearchCV\n",
        "from sklearn.model_selection import RandomizedSearchCV\n",
        "import torch.nn.functional as F\n",
        "from torch.utils.data import Dataset, DataLoader\n",
        "from sklearn.metrics import precision_recall_fscore_support\n",
        "from sklearn.model_selection import RandomizedSearchCV"
      ]
    },
    {
      "cell_type": "code",
      "source": [
        "# @markdown mount google drive\n",
        "from google.colab import drive\n",
        "drive.mount('/content/drive')"
      ],
      "metadata": {
        "colab": {
          "base_uri": "https://localhost:8080/"
        },
        "cellView": "form",
        "id": "v_GUX9IURjEs",
        "outputId": "201f23bc-f979-4d03-966f-86116ccc8ad9"
      },
      "execution_count": null,
      "outputs": [
        {
          "output_type": "stream",
          "name": "stdout",
          "text": [
            "Mounted at /content/drive\n"
          ]
        }
      ]
    },
    {
      "cell_type": "code",
      "source": [
        "# @title Load Dataset\n",
        "path = '/content/drive/MyDrive/allergen-detection/embeddings/esm-embeddings/'\n",
        "df_train = pd.read_csv(path+'df_train.csv', index_col=0)\n",
        "df_test = pd.read_csv(path+'df_test.csv', index_col=0)"
      ],
      "metadata": {
        "cellView": "form",
        "id": "ss0Wod1kQcIU"
      },
      "execution_count": null,
      "outputs": []
    },
    {
      "cell_type": "code",
      "source": [
        "# Convert Label to integer\n",
        "df_train['Label'] = df_train['Label'].astype(int)\n",
        "df_test['Label'] = df_test['Label'].astype(int)\n",
        "\n",
        "# Split data into train and validation sets\n",
        "X_train = df_train.drop('Label', axis=1)\n",
        "y_train = df_train['Label']\n",
        "X_test = df_test.drop('Label', axis=1)\n",
        "y_test = df_test['Label']"
      ],
      "metadata": {
        "id": "W8VETsusb2l6"
      },
      "execution_count": null,
      "outputs": []
    },
    {
      "cell_type": "code",
      "source": [
        "df_test.head()"
      ],
      "metadata": {
        "colab": {
          "base_uri": "https://localhost:8080/",
          "height": 255
        },
        "id": "2thU3EHE2NU9",
        "outputId": "66292650-5ea7-4a6e-d1c0-aed6b3febdc3"
      },
      "execution_count": null,
      "outputs": [
        {
          "output_type": "execute_result",
          "data": {
            "text/plain": [
              "          0         1         2         3         4         5         6  \\\n",
              "0 -0.022788  0.102351 -0.004759  0.056018  0.041625 -0.091652 -0.132269   \n",
              "1 -0.028571 -0.017322 -0.037169  0.027144  0.002909 -0.105564  0.061668   \n",
              "2  0.067068 -0.074117  0.011278  0.056075 -0.099463 -0.078861  0.021225   \n",
              "3 -0.029574 -0.049990 -0.052827 -0.066867  0.070059 -0.028007 -0.048950   \n",
              "4  0.016483 -0.101985  0.016983  0.041254 -0.012146 -0.078855 -0.021125   \n",
              "\n",
              "          7         8         9  ...      1271      1272      1273      1274  \\\n",
              "0  0.186708  0.009317 -0.013024  ...  0.058825 -0.126656  0.029039 -0.043456   \n",
              "1 -0.166686 -0.007113  0.075881  ... -0.024243  0.019002  0.035870 -0.109937   \n",
              "2 -0.012659  0.035010 -0.041538  ... -0.014853  0.003386  0.025327 -0.010808   \n",
              "3 -0.046356 -0.165470  0.093307  ...  0.026353 -0.027442 -0.003394 -0.074090   \n",
              "4 -0.142708  0.039837  0.017908  ... -0.008563 -0.002452 -0.037658 -0.044058   \n",
              "\n",
              "       1275      1276      1277      1278      1279  Label  \n",
              "0  0.176962  0.107510  0.044039 -0.119478 -0.009796      0  \n",
              "1  0.029677  0.092280 -0.143162 -0.092381  0.013006      1  \n",
              "2  0.033378  0.120301 -0.004345 -0.005355  0.035297      0  \n",
              "3 -0.126639 -0.044253 -0.181208  0.106327  0.195119      0  \n",
              "4  0.018399  0.075191 -0.139385  0.036831  0.094892      1  \n",
              "\n",
              "[5 rows x 1281 columns]"
            ],
            "text/html": [
              "\n",
              "  <div id=\"df-39f7ae9b-4d61-4438-9549-24078d8cf63e\" class=\"colab-df-container\">\n",
              "    <div>\n",
              "<style scoped>\n",
              "    .dataframe tbody tr th:only-of-type {\n",
              "        vertical-align: middle;\n",
              "    }\n",
              "\n",
              "    .dataframe tbody tr th {\n",
              "        vertical-align: top;\n",
              "    }\n",
              "\n",
              "    .dataframe thead th {\n",
              "        text-align: right;\n",
              "    }\n",
              "</style>\n",
              "<table border=\"1\" class=\"dataframe\">\n",
              "  <thead>\n",
              "    <tr style=\"text-align: right;\">\n",
              "      <th></th>\n",
              "      <th>0</th>\n",
              "      <th>1</th>\n",
              "      <th>2</th>\n",
              "      <th>3</th>\n",
              "      <th>4</th>\n",
              "      <th>5</th>\n",
              "      <th>6</th>\n",
              "      <th>7</th>\n",
              "      <th>8</th>\n",
              "      <th>9</th>\n",
              "      <th>...</th>\n",
              "      <th>1271</th>\n",
              "      <th>1272</th>\n",
              "      <th>1273</th>\n",
              "      <th>1274</th>\n",
              "      <th>1275</th>\n",
              "      <th>1276</th>\n",
              "      <th>1277</th>\n",
              "      <th>1278</th>\n",
              "      <th>1279</th>\n",
              "      <th>Label</th>\n",
              "    </tr>\n",
              "  </thead>\n",
              "  <tbody>\n",
              "    <tr>\n",
              "      <th>0</th>\n",
              "      <td>-0.022788</td>\n",
              "      <td>0.102351</td>\n",
              "      <td>-0.004759</td>\n",
              "      <td>0.056018</td>\n",
              "      <td>0.041625</td>\n",
              "      <td>-0.091652</td>\n",
              "      <td>-0.132269</td>\n",
              "      <td>0.186708</td>\n",
              "      <td>0.009317</td>\n",
              "      <td>-0.013024</td>\n",
              "      <td>...</td>\n",
              "      <td>0.058825</td>\n",
              "      <td>-0.126656</td>\n",
              "      <td>0.029039</td>\n",
              "      <td>-0.043456</td>\n",
              "      <td>0.176962</td>\n",
              "      <td>0.107510</td>\n",
              "      <td>0.044039</td>\n",
              "      <td>-0.119478</td>\n",
              "      <td>-0.009796</td>\n",
              "      <td>0</td>\n",
              "    </tr>\n",
              "    <tr>\n",
              "      <th>1</th>\n",
              "      <td>-0.028571</td>\n",
              "      <td>-0.017322</td>\n",
              "      <td>-0.037169</td>\n",
              "      <td>0.027144</td>\n",
              "      <td>0.002909</td>\n",
              "      <td>-0.105564</td>\n",
              "      <td>0.061668</td>\n",
              "      <td>-0.166686</td>\n",
              "      <td>-0.007113</td>\n",
              "      <td>0.075881</td>\n",
              "      <td>...</td>\n",
              "      <td>-0.024243</td>\n",
              "      <td>0.019002</td>\n",
              "      <td>0.035870</td>\n",
              "      <td>-0.109937</td>\n",
              "      <td>0.029677</td>\n",
              "      <td>0.092280</td>\n",
              "      <td>-0.143162</td>\n",
              "      <td>-0.092381</td>\n",
              "      <td>0.013006</td>\n",
              "      <td>1</td>\n",
              "    </tr>\n",
              "    <tr>\n",
              "      <th>2</th>\n",
              "      <td>0.067068</td>\n",
              "      <td>-0.074117</td>\n",
              "      <td>0.011278</td>\n",
              "      <td>0.056075</td>\n",
              "      <td>-0.099463</td>\n",
              "      <td>-0.078861</td>\n",
              "      <td>0.021225</td>\n",
              "      <td>-0.012659</td>\n",
              "      <td>0.035010</td>\n",
              "      <td>-0.041538</td>\n",
              "      <td>...</td>\n",
              "      <td>-0.014853</td>\n",
              "      <td>0.003386</td>\n",
              "      <td>0.025327</td>\n",
              "      <td>-0.010808</td>\n",
              "      <td>0.033378</td>\n",
              "      <td>0.120301</td>\n",
              "      <td>-0.004345</td>\n",
              "      <td>-0.005355</td>\n",
              "      <td>0.035297</td>\n",
              "      <td>0</td>\n",
              "    </tr>\n",
              "    <tr>\n",
              "      <th>3</th>\n",
              "      <td>-0.029574</td>\n",
              "      <td>-0.049990</td>\n",
              "      <td>-0.052827</td>\n",
              "      <td>-0.066867</td>\n",
              "      <td>0.070059</td>\n",
              "      <td>-0.028007</td>\n",
              "      <td>-0.048950</td>\n",
              "      <td>-0.046356</td>\n",
              "      <td>-0.165470</td>\n",
              "      <td>0.093307</td>\n",
              "      <td>...</td>\n",
              "      <td>0.026353</td>\n",
              "      <td>-0.027442</td>\n",
              "      <td>-0.003394</td>\n",
              "      <td>-0.074090</td>\n",
              "      <td>-0.126639</td>\n",
              "      <td>-0.044253</td>\n",
              "      <td>-0.181208</td>\n",
              "      <td>0.106327</td>\n",
              "      <td>0.195119</td>\n",
              "      <td>0</td>\n",
              "    </tr>\n",
              "    <tr>\n",
              "      <th>4</th>\n",
              "      <td>0.016483</td>\n",
              "      <td>-0.101985</td>\n",
              "      <td>0.016983</td>\n",
              "      <td>0.041254</td>\n",
              "      <td>-0.012146</td>\n",
              "      <td>-0.078855</td>\n",
              "      <td>-0.021125</td>\n",
              "      <td>-0.142708</td>\n",
              "      <td>0.039837</td>\n",
              "      <td>0.017908</td>\n",
              "      <td>...</td>\n",
              "      <td>-0.008563</td>\n",
              "      <td>-0.002452</td>\n",
              "      <td>-0.037658</td>\n",
              "      <td>-0.044058</td>\n",
              "      <td>0.018399</td>\n",
              "      <td>0.075191</td>\n",
              "      <td>-0.139385</td>\n",
              "      <td>0.036831</td>\n",
              "      <td>0.094892</td>\n",
              "      <td>1</td>\n",
              "    </tr>\n",
              "  </tbody>\n",
              "</table>\n",
              "<p>5 rows × 1281 columns</p>\n",
              "</div>\n",
              "    <div class=\"colab-df-buttons\">\n",
              "\n",
              "  <div class=\"colab-df-container\">\n",
              "    <button class=\"colab-df-convert\" onclick=\"convertToInteractive('df-39f7ae9b-4d61-4438-9549-24078d8cf63e')\"\n",
              "            title=\"Convert this dataframe to an interactive table.\"\n",
              "            style=\"display:none;\">\n",
              "\n",
              "  <svg xmlns=\"http://www.w3.org/2000/svg\" height=\"24px\" viewBox=\"0 -960 960 960\">\n",
              "    <path d=\"M120-120v-720h720v720H120Zm60-500h600v-160H180v160Zm220 220h160v-160H400v160Zm0 220h160v-160H400v160ZM180-400h160v-160H180v160Zm440 0h160v-160H620v160ZM180-180h160v-160H180v160Zm440 0h160v-160H620v160Z\"/>\n",
              "  </svg>\n",
              "    </button>\n",
              "\n",
              "  <style>\n",
              "    .colab-df-container {\n",
              "      display:flex;\n",
              "      gap: 12px;\n",
              "    }\n",
              "\n",
              "    .colab-df-convert {\n",
              "      background-color: #E8F0FE;\n",
              "      border: none;\n",
              "      border-radius: 50%;\n",
              "      cursor: pointer;\n",
              "      display: none;\n",
              "      fill: #1967D2;\n",
              "      height: 32px;\n",
              "      padding: 0 0 0 0;\n",
              "      width: 32px;\n",
              "    }\n",
              "\n",
              "    .colab-df-convert:hover {\n",
              "      background-color: #E2EBFA;\n",
              "      box-shadow: 0px 1px 2px rgba(60, 64, 67, 0.3), 0px 1px 3px 1px rgba(60, 64, 67, 0.15);\n",
              "      fill: #174EA6;\n",
              "    }\n",
              "\n",
              "    .colab-df-buttons div {\n",
              "      margin-bottom: 4px;\n",
              "    }\n",
              "\n",
              "    [theme=dark] .colab-df-convert {\n",
              "      background-color: #3B4455;\n",
              "      fill: #D2E3FC;\n",
              "    }\n",
              "\n",
              "    [theme=dark] .colab-df-convert:hover {\n",
              "      background-color: #434B5C;\n",
              "      box-shadow: 0px 1px 3px 1px rgba(0, 0, 0, 0.15);\n",
              "      filter: drop-shadow(0px 1px 2px rgba(0, 0, 0, 0.3));\n",
              "      fill: #FFFFFF;\n",
              "    }\n",
              "  </style>\n",
              "\n",
              "    <script>\n",
              "      const buttonEl =\n",
              "        document.querySelector('#df-39f7ae9b-4d61-4438-9549-24078d8cf63e button.colab-df-convert');\n",
              "      buttonEl.style.display =\n",
              "        google.colab.kernel.accessAllowed ? 'block' : 'none';\n",
              "\n",
              "      async function convertToInteractive(key) {\n",
              "        const element = document.querySelector('#df-39f7ae9b-4d61-4438-9549-24078d8cf63e');\n",
              "        const dataTable =\n",
              "          await google.colab.kernel.invokeFunction('convertToInteractive',\n",
              "                                                    [key], {});\n",
              "        if (!dataTable) return;\n",
              "\n",
              "        const docLinkHtml = 'Like what you see? Visit the ' +\n",
              "          '<a target=\"_blank\" href=https://colab.research.google.com/notebooks/data_table.ipynb>data table notebook</a>'\n",
              "          + ' to learn more about interactive tables.';\n",
              "        element.innerHTML = '';\n",
              "        dataTable['output_type'] = 'display_data';\n",
              "        await google.colab.output.renderOutput(dataTable, element);\n",
              "        const docLink = document.createElement('div');\n",
              "        docLink.innerHTML = docLinkHtml;\n",
              "        element.appendChild(docLink);\n",
              "      }\n",
              "    </script>\n",
              "  </div>\n",
              "\n",
              "\n",
              "<div id=\"df-858826f0-be38-4bf6-8701-79cc76f385ad\">\n",
              "  <button class=\"colab-df-quickchart\" onclick=\"quickchart('df-858826f0-be38-4bf6-8701-79cc76f385ad')\"\n",
              "            title=\"Suggest charts\"\n",
              "            style=\"display:none;\">\n",
              "\n",
              "<svg xmlns=\"http://www.w3.org/2000/svg\" height=\"24px\"viewBox=\"0 0 24 24\"\n",
              "     width=\"24px\">\n",
              "    <g>\n",
              "        <path d=\"M19 3H5c-1.1 0-2 .9-2 2v14c0 1.1.9 2 2 2h14c1.1 0 2-.9 2-2V5c0-1.1-.9-2-2-2zM9 17H7v-7h2v7zm4 0h-2V7h2v10zm4 0h-2v-4h2v4z\"/>\n",
              "    </g>\n",
              "</svg>\n",
              "  </button>\n",
              "\n",
              "<style>\n",
              "  .colab-df-quickchart {\n",
              "      --bg-color: #E8F0FE;\n",
              "      --fill-color: #1967D2;\n",
              "      --hover-bg-color: #E2EBFA;\n",
              "      --hover-fill-color: #174EA6;\n",
              "      --disabled-fill-color: #AAA;\n",
              "      --disabled-bg-color: #DDD;\n",
              "  }\n",
              "\n",
              "  [theme=dark] .colab-df-quickchart {\n",
              "      --bg-color: #3B4455;\n",
              "      --fill-color: #D2E3FC;\n",
              "      --hover-bg-color: #434B5C;\n",
              "      --hover-fill-color: #FFFFFF;\n",
              "      --disabled-bg-color: #3B4455;\n",
              "      --disabled-fill-color: #666;\n",
              "  }\n",
              "\n",
              "  .colab-df-quickchart {\n",
              "    background-color: var(--bg-color);\n",
              "    border: none;\n",
              "    border-radius: 50%;\n",
              "    cursor: pointer;\n",
              "    display: none;\n",
              "    fill: var(--fill-color);\n",
              "    height: 32px;\n",
              "    padding: 0;\n",
              "    width: 32px;\n",
              "  }\n",
              "\n",
              "  .colab-df-quickchart:hover {\n",
              "    background-color: var(--hover-bg-color);\n",
              "    box-shadow: 0 1px 2px rgba(60, 64, 67, 0.3), 0 1px 3px 1px rgba(60, 64, 67, 0.15);\n",
              "    fill: var(--button-hover-fill-color);\n",
              "  }\n",
              "\n",
              "  .colab-df-quickchart-complete:disabled,\n",
              "  .colab-df-quickchart-complete:disabled:hover {\n",
              "    background-color: var(--disabled-bg-color);\n",
              "    fill: var(--disabled-fill-color);\n",
              "    box-shadow: none;\n",
              "  }\n",
              "\n",
              "  .colab-df-spinner {\n",
              "    border: 2px solid var(--fill-color);\n",
              "    border-color: transparent;\n",
              "    border-bottom-color: var(--fill-color);\n",
              "    animation:\n",
              "      spin 1s steps(1) infinite;\n",
              "  }\n",
              "\n",
              "  @keyframes spin {\n",
              "    0% {\n",
              "      border-color: transparent;\n",
              "      border-bottom-color: var(--fill-color);\n",
              "      border-left-color: var(--fill-color);\n",
              "    }\n",
              "    20% {\n",
              "      border-color: transparent;\n",
              "      border-left-color: var(--fill-color);\n",
              "      border-top-color: var(--fill-color);\n",
              "    }\n",
              "    30% {\n",
              "      border-color: transparent;\n",
              "      border-left-color: var(--fill-color);\n",
              "      border-top-color: var(--fill-color);\n",
              "      border-right-color: var(--fill-color);\n",
              "    }\n",
              "    40% {\n",
              "      border-color: transparent;\n",
              "      border-right-color: var(--fill-color);\n",
              "      border-top-color: var(--fill-color);\n",
              "    }\n",
              "    60% {\n",
              "      border-color: transparent;\n",
              "      border-right-color: var(--fill-color);\n",
              "    }\n",
              "    80% {\n",
              "      border-color: transparent;\n",
              "      border-right-color: var(--fill-color);\n",
              "      border-bottom-color: var(--fill-color);\n",
              "    }\n",
              "    90% {\n",
              "      border-color: transparent;\n",
              "      border-bottom-color: var(--fill-color);\n",
              "    }\n",
              "  }\n",
              "</style>\n",
              "\n",
              "  <script>\n",
              "    async function quickchart(key) {\n",
              "      const quickchartButtonEl =\n",
              "        document.querySelector('#' + key + ' button');\n",
              "      quickchartButtonEl.disabled = true;  // To prevent multiple clicks.\n",
              "      quickchartButtonEl.classList.add('colab-df-spinner');\n",
              "      try {\n",
              "        const charts = await google.colab.kernel.invokeFunction(\n",
              "            'suggestCharts', [key], {});\n",
              "      } catch (error) {\n",
              "        console.error('Error during call to suggestCharts:', error);\n",
              "      }\n",
              "      quickchartButtonEl.classList.remove('colab-df-spinner');\n",
              "      quickchartButtonEl.classList.add('colab-df-quickchart-complete');\n",
              "    }\n",
              "    (() => {\n",
              "      let quickchartButtonEl =\n",
              "        document.querySelector('#df-858826f0-be38-4bf6-8701-79cc76f385ad button');\n",
              "      quickchartButtonEl.style.display =\n",
              "        google.colab.kernel.accessAllowed ? 'block' : 'none';\n",
              "    })();\n",
              "  </script>\n",
              "</div>\n",
              "    </div>\n",
              "  </div>\n"
            ],
            "application/vnd.google.colaboratory.intrinsic+json": {
              "type": "dataframe",
              "variable_name": "df_test"
            }
          },
          "metadata": {},
          "execution_count": 6
        }
      ]
    },
    {
      "cell_type": "code",
      "source": [
        "df_train.head()"
      ],
      "metadata": {
        "colab": {
          "base_uri": "https://localhost:8080/",
          "height": 255
        },
        "id": "3r4fhLfw2T18",
        "outputId": "4a7b33e6-b91d-4383-e810-3674bb3ca007"
      },
      "execution_count": null,
      "outputs": [
        {
          "output_type": "execute_result",
          "data": {
            "text/plain": [
              "          0         1         2         3         4         5         6  \\\n",
              "0  0.007024 -0.065006 -0.028041  0.111512  0.010963  0.050427  0.117898   \n",
              "1 -0.016422  0.017157  0.065902 -0.045502 -0.020965  0.019144 -0.008605   \n",
              "2 -0.067091  0.036359 -0.012731  0.002579  0.015604 -0.163380  0.009639   \n",
              "3  0.003069 -0.012822 -0.020514  0.109759 -0.071700  0.016879  0.031743   \n",
              "4  0.045561 -0.089433 -0.039230  0.128283 -0.066253 -0.094849  0.142744   \n",
              "\n",
              "          7         8         9  ...      1271      1272      1273      1274  \\\n",
              "0 -0.123601  0.096952  0.053966  ... -0.064849  0.025921  0.108775 -0.035739   \n",
              "1  0.107032  0.024592  0.059676  ...  0.036166 -0.074265  0.072319 -0.044529   \n",
              "2 -0.003973 -0.108023  0.069293  ...  0.014872 -0.137274  0.086011 -0.035893   \n",
              "3  0.002377  0.093078 -0.009462  ...  0.098554  0.046076  0.111619 -0.035462   \n",
              "4 -0.094645  0.017515  0.111390  ...  0.039378 -0.177669 -0.003415  0.036854   \n",
              "\n",
              "       1275      1276      1277      1278      1279  Label  \n",
              "0 -0.080950  0.042518 -0.047726 -0.028700  0.069091      1  \n",
              "1  0.162673  0.107594  0.038635 -0.063711  0.072911      0  \n",
              "2  0.001509  0.090051 -0.043187  0.003108  0.034345      1  \n",
              "3  0.100664  0.147820  0.014518 -0.152727 -0.041294      1  \n",
              "4 -0.080315 -0.023137  0.031750  0.065749  0.070150      0  \n",
              "\n",
              "[5 rows x 1281 columns]"
            ],
            "text/html": [
              "\n",
              "  <div id=\"df-c559919c-eb1f-4431-a78e-dfb8dd6f34f9\" class=\"colab-df-container\">\n",
              "    <div>\n",
              "<style scoped>\n",
              "    .dataframe tbody tr th:only-of-type {\n",
              "        vertical-align: middle;\n",
              "    }\n",
              "\n",
              "    .dataframe tbody tr th {\n",
              "        vertical-align: top;\n",
              "    }\n",
              "\n",
              "    .dataframe thead th {\n",
              "        text-align: right;\n",
              "    }\n",
              "</style>\n",
              "<table border=\"1\" class=\"dataframe\">\n",
              "  <thead>\n",
              "    <tr style=\"text-align: right;\">\n",
              "      <th></th>\n",
              "      <th>0</th>\n",
              "      <th>1</th>\n",
              "      <th>2</th>\n",
              "      <th>3</th>\n",
              "      <th>4</th>\n",
              "      <th>5</th>\n",
              "      <th>6</th>\n",
              "      <th>7</th>\n",
              "      <th>8</th>\n",
              "      <th>9</th>\n",
              "      <th>...</th>\n",
              "      <th>1271</th>\n",
              "      <th>1272</th>\n",
              "      <th>1273</th>\n",
              "      <th>1274</th>\n",
              "      <th>1275</th>\n",
              "      <th>1276</th>\n",
              "      <th>1277</th>\n",
              "      <th>1278</th>\n",
              "      <th>1279</th>\n",
              "      <th>Label</th>\n",
              "    </tr>\n",
              "  </thead>\n",
              "  <tbody>\n",
              "    <tr>\n",
              "      <th>0</th>\n",
              "      <td>0.007024</td>\n",
              "      <td>-0.065006</td>\n",
              "      <td>-0.028041</td>\n",
              "      <td>0.111512</td>\n",
              "      <td>0.010963</td>\n",
              "      <td>0.050427</td>\n",
              "      <td>0.117898</td>\n",
              "      <td>-0.123601</td>\n",
              "      <td>0.096952</td>\n",
              "      <td>0.053966</td>\n",
              "      <td>...</td>\n",
              "      <td>-0.064849</td>\n",
              "      <td>0.025921</td>\n",
              "      <td>0.108775</td>\n",
              "      <td>-0.035739</td>\n",
              "      <td>-0.080950</td>\n",
              "      <td>0.042518</td>\n",
              "      <td>-0.047726</td>\n",
              "      <td>-0.028700</td>\n",
              "      <td>0.069091</td>\n",
              "      <td>1</td>\n",
              "    </tr>\n",
              "    <tr>\n",
              "      <th>1</th>\n",
              "      <td>-0.016422</td>\n",
              "      <td>0.017157</td>\n",
              "      <td>0.065902</td>\n",
              "      <td>-0.045502</td>\n",
              "      <td>-0.020965</td>\n",
              "      <td>0.019144</td>\n",
              "      <td>-0.008605</td>\n",
              "      <td>0.107032</td>\n",
              "      <td>0.024592</td>\n",
              "      <td>0.059676</td>\n",
              "      <td>...</td>\n",
              "      <td>0.036166</td>\n",
              "      <td>-0.074265</td>\n",
              "      <td>0.072319</td>\n",
              "      <td>-0.044529</td>\n",
              "      <td>0.162673</td>\n",
              "      <td>0.107594</td>\n",
              "      <td>0.038635</td>\n",
              "      <td>-0.063711</td>\n",
              "      <td>0.072911</td>\n",
              "      <td>0</td>\n",
              "    </tr>\n",
              "    <tr>\n",
              "      <th>2</th>\n",
              "      <td>-0.067091</td>\n",
              "      <td>0.036359</td>\n",
              "      <td>-0.012731</td>\n",
              "      <td>0.002579</td>\n",
              "      <td>0.015604</td>\n",
              "      <td>-0.163380</td>\n",
              "      <td>0.009639</td>\n",
              "      <td>-0.003973</td>\n",
              "      <td>-0.108023</td>\n",
              "      <td>0.069293</td>\n",
              "      <td>...</td>\n",
              "      <td>0.014872</td>\n",
              "      <td>-0.137274</td>\n",
              "      <td>0.086011</td>\n",
              "      <td>-0.035893</td>\n",
              "      <td>0.001509</td>\n",
              "      <td>0.090051</td>\n",
              "      <td>-0.043187</td>\n",
              "      <td>0.003108</td>\n",
              "      <td>0.034345</td>\n",
              "      <td>1</td>\n",
              "    </tr>\n",
              "    <tr>\n",
              "      <th>3</th>\n",
              "      <td>0.003069</td>\n",
              "      <td>-0.012822</td>\n",
              "      <td>-0.020514</td>\n",
              "      <td>0.109759</td>\n",
              "      <td>-0.071700</td>\n",
              "      <td>0.016879</td>\n",
              "      <td>0.031743</td>\n",
              "      <td>0.002377</td>\n",
              "      <td>0.093078</td>\n",
              "      <td>-0.009462</td>\n",
              "      <td>...</td>\n",
              "      <td>0.098554</td>\n",
              "      <td>0.046076</td>\n",
              "      <td>0.111619</td>\n",
              "      <td>-0.035462</td>\n",
              "      <td>0.100664</td>\n",
              "      <td>0.147820</td>\n",
              "      <td>0.014518</td>\n",
              "      <td>-0.152727</td>\n",
              "      <td>-0.041294</td>\n",
              "      <td>1</td>\n",
              "    </tr>\n",
              "    <tr>\n",
              "      <th>4</th>\n",
              "      <td>0.045561</td>\n",
              "      <td>-0.089433</td>\n",
              "      <td>-0.039230</td>\n",
              "      <td>0.128283</td>\n",
              "      <td>-0.066253</td>\n",
              "      <td>-0.094849</td>\n",
              "      <td>0.142744</td>\n",
              "      <td>-0.094645</td>\n",
              "      <td>0.017515</td>\n",
              "      <td>0.111390</td>\n",
              "      <td>...</td>\n",
              "      <td>0.039378</td>\n",
              "      <td>-0.177669</td>\n",
              "      <td>-0.003415</td>\n",
              "      <td>0.036854</td>\n",
              "      <td>-0.080315</td>\n",
              "      <td>-0.023137</td>\n",
              "      <td>0.031750</td>\n",
              "      <td>0.065749</td>\n",
              "      <td>0.070150</td>\n",
              "      <td>0</td>\n",
              "    </tr>\n",
              "  </tbody>\n",
              "</table>\n",
              "<p>5 rows × 1281 columns</p>\n",
              "</div>\n",
              "    <div class=\"colab-df-buttons\">\n",
              "\n",
              "  <div class=\"colab-df-container\">\n",
              "    <button class=\"colab-df-convert\" onclick=\"convertToInteractive('df-c559919c-eb1f-4431-a78e-dfb8dd6f34f9')\"\n",
              "            title=\"Convert this dataframe to an interactive table.\"\n",
              "            style=\"display:none;\">\n",
              "\n",
              "  <svg xmlns=\"http://www.w3.org/2000/svg\" height=\"24px\" viewBox=\"0 -960 960 960\">\n",
              "    <path d=\"M120-120v-720h720v720H120Zm60-500h600v-160H180v160Zm220 220h160v-160H400v160Zm0 220h160v-160H400v160ZM180-400h160v-160H180v160Zm440 0h160v-160H620v160ZM180-180h160v-160H180v160Zm440 0h160v-160H620v160Z\"/>\n",
              "  </svg>\n",
              "    </button>\n",
              "\n",
              "  <style>\n",
              "    .colab-df-container {\n",
              "      display:flex;\n",
              "      gap: 12px;\n",
              "    }\n",
              "\n",
              "    .colab-df-convert {\n",
              "      background-color: #E8F0FE;\n",
              "      border: none;\n",
              "      border-radius: 50%;\n",
              "      cursor: pointer;\n",
              "      display: none;\n",
              "      fill: #1967D2;\n",
              "      height: 32px;\n",
              "      padding: 0 0 0 0;\n",
              "      width: 32px;\n",
              "    }\n",
              "\n",
              "    .colab-df-convert:hover {\n",
              "      background-color: #E2EBFA;\n",
              "      box-shadow: 0px 1px 2px rgba(60, 64, 67, 0.3), 0px 1px 3px 1px rgba(60, 64, 67, 0.15);\n",
              "      fill: #174EA6;\n",
              "    }\n",
              "\n",
              "    .colab-df-buttons div {\n",
              "      margin-bottom: 4px;\n",
              "    }\n",
              "\n",
              "    [theme=dark] .colab-df-convert {\n",
              "      background-color: #3B4455;\n",
              "      fill: #D2E3FC;\n",
              "    }\n",
              "\n",
              "    [theme=dark] .colab-df-convert:hover {\n",
              "      background-color: #434B5C;\n",
              "      box-shadow: 0px 1px 3px 1px rgba(0, 0, 0, 0.15);\n",
              "      filter: drop-shadow(0px 1px 2px rgba(0, 0, 0, 0.3));\n",
              "      fill: #FFFFFF;\n",
              "    }\n",
              "  </style>\n",
              "\n",
              "    <script>\n",
              "      const buttonEl =\n",
              "        document.querySelector('#df-c559919c-eb1f-4431-a78e-dfb8dd6f34f9 button.colab-df-convert');\n",
              "      buttonEl.style.display =\n",
              "        google.colab.kernel.accessAllowed ? 'block' : 'none';\n",
              "\n",
              "      async function convertToInteractive(key) {\n",
              "        const element = document.querySelector('#df-c559919c-eb1f-4431-a78e-dfb8dd6f34f9');\n",
              "        const dataTable =\n",
              "          await google.colab.kernel.invokeFunction('convertToInteractive',\n",
              "                                                    [key], {});\n",
              "        if (!dataTable) return;\n",
              "\n",
              "        const docLinkHtml = 'Like what you see? Visit the ' +\n",
              "          '<a target=\"_blank\" href=https://colab.research.google.com/notebooks/data_table.ipynb>data table notebook</a>'\n",
              "          + ' to learn more about interactive tables.';\n",
              "        element.innerHTML = '';\n",
              "        dataTable['output_type'] = 'display_data';\n",
              "        await google.colab.output.renderOutput(dataTable, element);\n",
              "        const docLink = document.createElement('div');\n",
              "        docLink.innerHTML = docLinkHtml;\n",
              "        element.appendChild(docLink);\n",
              "      }\n",
              "    </script>\n",
              "  </div>\n",
              "\n",
              "\n",
              "<div id=\"df-5cffaf77-afc9-4a25-98b3-e70205d0358b\">\n",
              "  <button class=\"colab-df-quickchart\" onclick=\"quickchart('df-5cffaf77-afc9-4a25-98b3-e70205d0358b')\"\n",
              "            title=\"Suggest charts\"\n",
              "            style=\"display:none;\">\n",
              "\n",
              "<svg xmlns=\"http://www.w3.org/2000/svg\" height=\"24px\"viewBox=\"0 0 24 24\"\n",
              "     width=\"24px\">\n",
              "    <g>\n",
              "        <path d=\"M19 3H5c-1.1 0-2 .9-2 2v14c0 1.1.9 2 2 2h14c1.1 0 2-.9 2-2V5c0-1.1-.9-2-2-2zM9 17H7v-7h2v7zm4 0h-2V7h2v10zm4 0h-2v-4h2v4z\"/>\n",
              "    </g>\n",
              "</svg>\n",
              "  </button>\n",
              "\n",
              "<style>\n",
              "  .colab-df-quickchart {\n",
              "      --bg-color: #E8F0FE;\n",
              "      --fill-color: #1967D2;\n",
              "      --hover-bg-color: #E2EBFA;\n",
              "      --hover-fill-color: #174EA6;\n",
              "      --disabled-fill-color: #AAA;\n",
              "      --disabled-bg-color: #DDD;\n",
              "  }\n",
              "\n",
              "  [theme=dark] .colab-df-quickchart {\n",
              "      --bg-color: #3B4455;\n",
              "      --fill-color: #D2E3FC;\n",
              "      --hover-bg-color: #434B5C;\n",
              "      --hover-fill-color: #FFFFFF;\n",
              "      --disabled-bg-color: #3B4455;\n",
              "      --disabled-fill-color: #666;\n",
              "  }\n",
              "\n",
              "  .colab-df-quickchart {\n",
              "    background-color: var(--bg-color);\n",
              "    border: none;\n",
              "    border-radius: 50%;\n",
              "    cursor: pointer;\n",
              "    display: none;\n",
              "    fill: var(--fill-color);\n",
              "    height: 32px;\n",
              "    padding: 0;\n",
              "    width: 32px;\n",
              "  }\n",
              "\n",
              "  .colab-df-quickchart:hover {\n",
              "    background-color: var(--hover-bg-color);\n",
              "    box-shadow: 0 1px 2px rgba(60, 64, 67, 0.3), 0 1px 3px 1px rgba(60, 64, 67, 0.15);\n",
              "    fill: var(--button-hover-fill-color);\n",
              "  }\n",
              "\n",
              "  .colab-df-quickchart-complete:disabled,\n",
              "  .colab-df-quickchart-complete:disabled:hover {\n",
              "    background-color: var(--disabled-bg-color);\n",
              "    fill: var(--disabled-fill-color);\n",
              "    box-shadow: none;\n",
              "  }\n",
              "\n",
              "  .colab-df-spinner {\n",
              "    border: 2px solid var(--fill-color);\n",
              "    border-color: transparent;\n",
              "    border-bottom-color: var(--fill-color);\n",
              "    animation:\n",
              "      spin 1s steps(1) infinite;\n",
              "  }\n",
              "\n",
              "  @keyframes spin {\n",
              "    0% {\n",
              "      border-color: transparent;\n",
              "      border-bottom-color: var(--fill-color);\n",
              "      border-left-color: var(--fill-color);\n",
              "    }\n",
              "    20% {\n",
              "      border-color: transparent;\n",
              "      border-left-color: var(--fill-color);\n",
              "      border-top-color: var(--fill-color);\n",
              "    }\n",
              "    30% {\n",
              "      border-color: transparent;\n",
              "      border-left-color: var(--fill-color);\n",
              "      border-top-color: var(--fill-color);\n",
              "      border-right-color: var(--fill-color);\n",
              "    }\n",
              "    40% {\n",
              "      border-color: transparent;\n",
              "      border-right-color: var(--fill-color);\n",
              "      border-top-color: var(--fill-color);\n",
              "    }\n",
              "    60% {\n",
              "      border-color: transparent;\n",
              "      border-right-color: var(--fill-color);\n",
              "    }\n",
              "    80% {\n",
              "      border-color: transparent;\n",
              "      border-right-color: var(--fill-color);\n",
              "      border-bottom-color: var(--fill-color);\n",
              "    }\n",
              "    90% {\n",
              "      border-color: transparent;\n",
              "      border-bottom-color: var(--fill-color);\n",
              "    }\n",
              "  }\n",
              "</style>\n",
              "\n",
              "  <script>\n",
              "    async function quickchart(key) {\n",
              "      const quickchartButtonEl =\n",
              "        document.querySelector('#' + key + ' button');\n",
              "      quickchartButtonEl.disabled = true;  // To prevent multiple clicks.\n",
              "      quickchartButtonEl.classList.add('colab-df-spinner');\n",
              "      try {\n",
              "        const charts = await google.colab.kernel.invokeFunction(\n",
              "            'suggestCharts', [key], {});\n",
              "      } catch (error) {\n",
              "        console.error('Error during call to suggestCharts:', error);\n",
              "      }\n",
              "      quickchartButtonEl.classList.remove('colab-df-spinner');\n",
              "      quickchartButtonEl.classList.add('colab-df-quickchart-complete');\n",
              "    }\n",
              "    (() => {\n",
              "      let quickchartButtonEl =\n",
              "        document.querySelector('#df-5cffaf77-afc9-4a25-98b3-e70205d0358b button');\n",
              "      quickchartButtonEl.style.display =\n",
              "        google.colab.kernel.accessAllowed ? 'block' : 'none';\n",
              "    })();\n",
              "  </script>\n",
              "</div>\n",
              "    </div>\n",
              "  </div>\n"
            ],
            "application/vnd.google.colaboratory.intrinsic+json": {
              "type": "dataframe",
              "variable_name": "df_train"
            }
          },
          "metadata": {},
          "execution_count": 7
        }
      ]
    },
    {
      "cell_type": "markdown",
      "source": [
        "# Preprocess Data"
      ],
      "metadata": {
        "id": "5KUYvzGCwoSJ"
      }
    },
    {
      "cell_type": "code",
      "source": [
        "# Create new feature names\n",
        "feature_names = ['feat_'+str(i) for i in range(X_train.shape[1])]\n",
        "\n",
        "# Rename columns\n",
        "X_train.columns = feature_names\n",
        "X_test.columns = feature_names"
      ],
      "metadata": {
        "id": "QTn_AesRcGX4"
      },
      "execution_count": null,
      "outputs": []
    },
    {
      "cell_type": "code",
      "source": [
        "scaler = MinMaxScaler()\n",
        "X_train_scaled = scaler.fit_transform(X_train)\n",
        "X_test_scaled = scaler.transform(X_test)"
      ],
      "metadata": {
        "id": "VeQNTIJKwcod"
      },
      "execution_count": null,
      "outputs": []
    },
    {
      "cell_type": "code",
      "source": [
        "# Convert to numpy arrays\n",
        "y_train = np.array(y_train)\n",
        "y_test = np.array(y_test)"
      ],
      "metadata": {
        "id": "unSTwuCgwyxk"
      },
      "execution_count": null,
      "outputs": []
    },
    {
      "cell_type": "markdown",
      "source": [
        "# Train Classifiers"
      ],
      "metadata": {
        "id": "KC4DbQHYiLKq"
      }
    },
    {
      "cell_type": "code",
      "source": [
        "# Train classifiers\n",
        "rf = RandomForestClassifier(n_estimators=100, random_state=42)\n",
        "rf.fit(X_train, y_train)\n",
        "\n",
        "svm = SVC(gamma='auto')\n",
        "svm.fit(X_train, y_train)\n",
        "\n",
        "knn = KNeighborsClassifier(n_neighbors=5)\n",
        "knn.fit(X_train, y_train)\n",
        "\n",
        "xgb = XGBClassifier(n_estimators=100, learning_rate=0.1)\n",
        "xgb.fit(X_train, y_train)"
      ],
      "metadata": {
        "colab": {
          "base_uri": "https://localhost:8080/",
          "height": 248
        },
        "id": "EpLWyDQicKRk",
        "outputId": "fa770cf8-1bde-4926-81b3-9f21c3a31c68"
      },
      "execution_count": null,
      "outputs": [
        {
          "output_type": "execute_result",
          "data": {
            "text/plain": [
              "XGBClassifier(base_score=None, booster=None, callbacks=None,\n",
              "              colsample_bylevel=None, colsample_bynode=None,\n",
              "              colsample_bytree=None, device=None, early_stopping_rounds=None,\n",
              "              enable_categorical=False, eval_metric=None, feature_types=None,\n",
              "              gamma=None, grow_policy=None, importance_type=None,\n",
              "              interaction_constraints=None, learning_rate=0.1, max_bin=None,\n",
              "              max_cat_threshold=None, max_cat_to_onehot=None,\n",
              "              max_delta_step=None, max_depth=None, max_leaves=None,\n",
              "              min_child_weight=None, missing=nan, monotone_constraints=None,\n",
              "              multi_strategy=None, n_estimators=100, n_jobs=None,\n",
              "              num_parallel_tree=None, random_state=None, ...)"
            ],
            "text/html": [
              "<style>#sk-container-id-1 {color: black;}#sk-container-id-1 pre{padding: 0;}#sk-container-id-1 div.sk-toggleable {background-color: white;}#sk-container-id-1 label.sk-toggleable__label {cursor: pointer;display: block;width: 100%;margin-bottom: 0;padding: 0.3em;box-sizing: border-box;text-align: center;}#sk-container-id-1 label.sk-toggleable__label-arrow:before {content: \"▸\";float: left;margin-right: 0.25em;color: #696969;}#sk-container-id-1 label.sk-toggleable__label-arrow:hover:before {color: black;}#sk-container-id-1 div.sk-estimator:hover label.sk-toggleable__label-arrow:before {color: black;}#sk-container-id-1 div.sk-toggleable__content {max-height: 0;max-width: 0;overflow: hidden;text-align: left;background-color: #f0f8ff;}#sk-container-id-1 div.sk-toggleable__content pre {margin: 0.2em;color: black;border-radius: 0.25em;background-color: #f0f8ff;}#sk-container-id-1 input.sk-toggleable__control:checked~div.sk-toggleable__content {max-height: 200px;max-width: 100%;overflow: auto;}#sk-container-id-1 input.sk-toggleable__control:checked~label.sk-toggleable__label-arrow:before {content: \"▾\";}#sk-container-id-1 div.sk-estimator input.sk-toggleable__control:checked~label.sk-toggleable__label {background-color: #d4ebff;}#sk-container-id-1 div.sk-label input.sk-toggleable__control:checked~label.sk-toggleable__label {background-color: #d4ebff;}#sk-container-id-1 input.sk-hidden--visually {border: 0;clip: rect(1px 1px 1px 1px);clip: rect(1px, 1px, 1px, 1px);height: 1px;margin: -1px;overflow: hidden;padding: 0;position: absolute;width: 1px;}#sk-container-id-1 div.sk-estimator {font-family: monospace;background-color: #f0f8ff;border: 1px dotted black;border-radius: 0.25em;box-sizing: border-box;margin-bottom: 0.5em;}#sk-container-id-1 div.sk-estimator:hover {background-color: #d4ebff;}#sk-container-id-1 div.sk-parallel-item::after {content: \"\";width: 100%;border-bottom: 1px solid gray;flex-grow: 1;}#sk-container-id-1 div.sk-label:hover label.sk-toggleable__label {background-color: #d4ebff;}#sk-container-id-1 div.sk-serial::before {content: \"\";position: absolute;border-left: 1px solid gray;box-sizing: border-box;top: 0;bottom: 0;left: 50%;z-index: 0;}#sk-container-id-1 div.sk-serial {display: flex;flex-direction: column;align-items: center;background-color: white;padding-right: 0.2em;padding-left: 0.2em;position: relative;}#sk-container-id-1 div.sk-item {position: relative;z-index: 1;}#sk-container-id-1 div.sk-parallel {display: flex;align-items: stretch;justify-content: center;background-color: white;position: relative;}#sk-container-id-1 div.sk-item::before, #sk-container-id-1 div.sk-parallel-item::before {content: \"\";position: absolute;border-left: 1px solid gray;box-sizing: border-box;top: 0;bottom: 0;left: 50%;z-index: -1;}#sk-container-id-1 div.sk-parallel-item {display: flex;flex-direction: column;z-index: 1;position: relative;background-color: white;}#sk-container-id-1 div.sk-parallel-item:first-child::after {align-self: flex-end;width: 50%;}#sk-container-id-1 div.sk-parallel-item:last-child::after {align-self: flex-start;width: 50%;}#sk-container-id-1 div.sk-parallel-item:only-child::after {width: 0;}#sk-container-id-1 div.sk-dashed-wrapped {border: 1px dashed gray;margin: 0 0.4em 0.5em 0.4em;box-sizing: border-box;padding-bottom: 0.4em;background-color: white;}#sk-container-id-1 div.sk-label label {font-family: monospace;font-weight: bold;display: inline-block;line-height: 1.2em;}#sk-container-id-1 div.sk-label-container {text-align: center;}#sk-container-id-1 div.sk-container {/* jupyter's `normalize.less` sets `[hidden] { display: none; }` but bootstrap.min.css set `[hidden] { display: none !important; }` so we also need the `!important` here to be able to override the default hidden behavior on the sphinx rendered scikit-learn.org. See: https://github.com/scikit-learn/scikit-learn/issues/21755 */display: inline-block !important;position: relative;}#sk-container-id-1 div.sk-text-repr-fallback {display: none;}</style><div id=\"sk-container-id-1\" class=\"sk-top-container\"><div class=\"sk-text-repr-fallback\"><pre>XGBClassifier(base_score=None, booster=None, callbacks=None,\n",
              "              colsample_bylevel=None, colsample_bynode=None,\n",
              "              colsample_bytree=None, device=None, early_stopping_rounds=None,\n",
              "              enable_categorical=False, eval_metric=None, feature_types=None,\n",
              "              gamma=None, grow_policy=None, importance_type=None,\n",
              "              interaction_constraints=None, learning_rate=0.1, max_bin=None,\n",
              "              max_cat_threshold=None, max_cat_to_onehot=None,\n",
              "              max_delta_step=None, max_depth=None, max_leaves=None,\n",
              "              min_child_weight=None, missing=nan, monotone_constraints=None,\n",
              "              multi_strategy=None, n_estimators=100, n_jobs=None,\n",
              "              num_parallel_tree=None, random_state=None, ...)</pre><b>In a Jupyter environment, please rerun this cell to show the HTML representation or trust the notebook. <br />On GitHub, the HTML representation is unable to render, please try loading this page with nbviewer.org.</b></div><div class=\"sk-container\" hidden><div class=\"sk-item\"><div class=\"sk-estimator sk-toggleable\"><input class=\"sk-toggleable__control sk-hidden--visually\" id=\"sk-estimator-id-1\" type=\"checkbox\" checked><label for=\"sk-estimator-id-1\" class=\"sk-toggleable__label sk-toggleable__label-arrow\">XGBClassifier</label><div class=\"sk-toggleable__content\"><pre>XGBClassifier(base_score=None, booster=None, callbacks=None,\n",
              "              colsample_bylevel=None, colsample_bynode=None,\n",
              "              colsample_bytree=None, device=None, early_stopping_rounds=None,\n",
              "              enable_categorical=False, eval_metric=None, feature_types=None,\n",
              "              gamma=None, grow_policy=None, importance_type=None,\n",
              "              interaction_constraints=None, learning_rate=0.1, max_bin=None,\n",
              "              max_cat_threshold=None, max_cat_to_onehot=None,\n",
              "              max_delta_step=None, max_depth=None, max_leaves=None,\n",
              "              min_child_weight=None, missing=nan, monotone_constraints=None,\n",
              "              multi_strategy=None, n_estimators=100, n_jobs=None,\n",
              "              num_parallel_tree=None, random_state=None, ...)</pre></div></div></div></div></div>"
            ]
          },
          "metadata": {},
          "execution_count": 11
        }
      ]
    },
    {
      "cell_type": "code",
      "source": [
        "# Evaluate on test set\n",
        "y_rf_pred = rf.predict(X_test)\n",
        "y_svm_pred = svm.predict(X_test)\n",
        "y_knn_pred = knn.predict(X_test)\n",
        "y_xgb_pred = xgb.predict(X_test)"
      ],
      "metadata": {
        "id": "xltQZc9gcOBI"
      },
      "execution_count": null,
      "outputs": []
    },
    {
      "cell_type": "markdown",
      "source": [
        "### Reported results (1)"
      ],
      "metadata": {
        "id": "GqZOZiq_gpVd"
      }
    },
    {
      "cell_type": "code",
      "source": [
        "print(\"Random Forest Test Accuracy: \", accuracy_score(y_test, y_rf_pred))\n",
        "print('Random Forest Test Result:\\n', classification_report(y_test , y_rf_pred ))\n",
        "\n",
        "print(\"SVM Test Accuracy: \", accuracy_score(y_test, y_svm_pred))\n",
        "print('SVM Test Result:\\n', classification_report(y_test , y_svm_pred ))\n",
        "\n",
        "print(\"KNN Test Accuracy: \", accuracy_score(y_test, y_knn_pred))\n",
        "print('KNN Test Result:\\n', classification_report(y_test , y_knn_pred ))\n",
        "\n",
        "print(\"XGBoost Test Accuracy: \", accuracy_score(y_test, y_xgb_pred))\n",
        "print('XGBoost Test Result:\\n', classification_report(y_test , y_xgb_pred ))"
      ],
      "metadata": {
        "colab": {
          "base_uri": "https://localhost:8080/"
        },
        "id": "r_C59k6fcTSi",
        "outputId": "1859e1b1-2302-4469-c687-59dc579246e6"
      },
      "execution_count": null,
      "outputs": [
        {
          "output_type": "stream",
          "name": "stdout",
          "text": [
            "Random Forest Test Accuracy:  0.7722084367245657\n",
            "Random Forest Test Result:\n",
            "               precision    recall  f1-score   support\n",
            "\n",
            "           0       0.69      1.00      0.81      2015\n",
            "           1       0.99      0.55      0.71      2015\n",
            "\n",
            "    accuracy                           0.77      4030\n",
            "   macro avg       0.84      0.77      0.76      4030\n",
            "weighted avg       0.84      0.77      0.76      4030\n",
            "\n",
            "SVM Test Accuracy:  0.9307692307692308\n",
            "SVM Test Result:\n",
            "               precision    recall  f1-score   support\n",
            "\n",
            "           0       0.92      0.95      0.93      2015\n",
            "           1       0.94      0.92      0.93      2015\n",
            "\n",
            "    accuracy                           0.93      4030\n",
            "   macro avg       0.93      0.93      0.93      4030\n",
            "weighted avg       0.93      0.93      0.93      4030\n",
            "\n",
            "KNN Test Accuracy:  0.8593052109181142\n",
            "KNN Test Result:\n",
            "               precision    recall  f1-score   support\n",
            "\n",
            "           0       0.80      0.97      0.87      2015\n",
            "           1       0.96      0.75      0.84      2015\n",
            "\n",
            "    accuracy                           0.86      4030\n",
            "   macro avg       0.88      0.86      0.86      4030\n",
            "weighted avg       0.88      0.86      0.86      4030\n",
            "\n",
            "XGBoost Test Accuracy:  0.8803970223325062\n",
            "XGBoost Test Result:\n",
            "               precision    recall  f1-score   support\n",
            "\n",
            "           0       0.81      0.99      0.89      2015\n",
            "           1       0.99      0.77      0.87      2015\n",
            "\n",
            "    accuracy                           0.88      4030\n",
            "   macro avg       0.90      0.88      0.88      4030\n",
            "weighted avg       0.90      0.88      0.88      4030\n",
            "\n"
          ]
        }
      ]
    },
    {
      "cell_type": "markdown",
      "source": [
        "# Hyper-Parameter Tuning"
      ],
      "metadata": {
        "id": "O0xhW1r9h0FU"
      }
    },
    {
      "cell_type": "code",
      "source": [
        "param_grid = {'kernel': ['rbf', 'linear', 'poly'],\n",
        "              'C': [0.1, 1, 10],\n",
        "              'gamma': [0.01, 0.1, 1]}\n",
        "\n",
        "grid = GridSearchCV(SVC(), param_grid, cv=5)\n",
        "grid.fit(X_train, y_train)\n",
        "\n",
        "print(\"Best parameters:\", grid.best_params_)\n",
        "print(\"Best accuracy:\", grid.best_score_)"
      ],
      "metadata": {
        "colab": {
          "base_uri": "https://localhost:8080/"
        },
        "id": "QeJf35TZkXLL",
        "outputId": "87a79d62-e8a3-4920-ec89-15265e1bf2ae"
      },
      "execution_count": null,
      "outputs": [
        {
          "output_type": "stream",
          "name": "stdout",
          "text": [
            "Best parameters: {'C': 10, 'gamma': 0.1, 'kernel': 'rbf'}\n",
            "Best accuracy: 0.9879652605459057\n"
          ]
        }
      ]
    },
    {
      "cell_type": "code",
      "source": [
        "df_comparative_results.to_csv('comparative_results.csv')"
      ],
      "metadata": {
        "id": "Epmti4aRk6-X"
      },
      "execution_count": null,
      "outputs": []
    },
    {
      "cell_type": "code",
      "source": [
        "svm = SVC(kernel='poly', gamma=0.01, C=0.5)\n",
        "svm.fit(X_train, y_train)\n",
        "\n",
        "y_svm_pred = svm.predict(X_test)\n",
        "print(\"SVM Test Accuracy: \", accuracy_score(y_test, y_svm_pred))\n",
        "print('svm result:\\n', classification_report(y_test , y_svm_pred ))"
      ],
      "metadata": {
        "colab": {
          "base_uri": "https://localhost:8080/"
        },
        "id": "ezbumal-zFZC",
        "outputId": "7b770537-1f01-44b7-8c61-36250a8f9cad"
      },
      "execution_count": null,
      "outputs": [
        {
          "output_type": "stream",
          "name": "stdout",
          "text": [
            "SVM Test Accuracy:  0.9305210918114144\n",
            "svm result:\n",
            "               precision    recall  f1-score   support\n",
            "\n",
            "           0       0.91      0.96      0.93      2015\n",
            "           1       0.96      0.90      0.93      2015\n",
            "\n",
            "    accuracy                           0.93      4030\n",
            "   macro avg       0.93      0.93      0.93      4030\n",
            "weighted avg       0.93      0.93      0.93      4030\n",
            "\n"
          ]
        }
      ]
    },
    {
      "cell_type": "code",
      "source": [
        "svm = SVC(kernel='rbf', gamma=0.01, C=0.5)\n",
        "svm.fit(X_train, y_train)\n",
        "\n",
        "y_svm_pred = svm.predict(X_test)\n",
        "print(\"SVM Test Accuracy: \", accuracy_score(y_test, y_svm_pred))\n",
        "print('svm result:\\n', classification_report(y_test , y_svm_pred ))"
      ],
      "metadata": {
        "colab": {
          "base_uri": "https://localhost:8080/"
        },
        "id": "R9N9I-n-Z7Y_",
        "outputId": "aeb62c87-960f-4821-aa3e-cd9fec5f04ed"
      },
      "execution_count": null,
      "outputs": [
        {
          "output_type": "stream",
          "name": "stdout",
          "text": [
            "SVM Test Accuracy:  0.9399503722084367\n",
            "svm result:\n",
            "               precision    recall  f1-score   support\n",
            "\n",
            "           0       0.92      0.96      0.94      2015\n",
            "           1       0.96      0.92      0.94      2015\n",
            "\n",
            "    accuracy                           0.94      4030\n",
            "   macro avg       0.94      0.94      0.94      4030\n",
            "weighted avg       0.94      0.94      0.94      4030\n",
            "\n"
          ]
        }
      ]
    },
    {
      "cell_type": "code",
      "source": [
        "svm = SVC(kernel='rbf', gamma=0.1, C=0.5)\n",
        "svm.fit(X_train, y_train)\n",
        "\n",
        "y_svm_pred = svm.predict(X_test)\n",
        "print(\"SVM Test Accuracy: \", accuracy_score(y_test, y_svm_pred))\n",
        "print('svm result:\\n', classification_report(y_test , y_svm_pred ))"
      ],
      "metadata": {
        "colab": {
          "base_uri": "https://localhost:8080/"
        },
        "id": "0tWsNSpwZ9dN",
        "outputId": "efeb168d-fba2-4dfd-f350-d050a9903244"
      },
      "execution_count": null,
      "outputs": [
        {
          "output_type": "stream",
          "name": "stdout",
          "text": [
            "SVM Test Accuracy:  0.890074441687345\n",
            "svm result:\n",
            "               precision    recall  f1-score   support\n",
            "\n",
            "           0       0.83      0.98      0.90      2015\n",
            "           1       0.98      0.80      0.88      2015\n",
            "\n",
            "    accuracy                           0.89      4030\n",
            "   macro avg       0.90      0.89      0.89      4030\n",
            "weighted avg       0.90      0.89      0.89      4030\n",
            "\n"
          ]
        }
      ]
    },
    {
      "cell_type": "code",
      "source": [
        "svm = SVC(kernel='poly', gamma='auto', C=1)\n",
        "svm.fit(X_train, y_train)\n",
        "\n",
        "y_svm_pred = svm.predict(X_test)\n",
        "print(\"SVM Test Accuracy: \", accuracy_score(y_test, y_svm_pred))\n",
        "print('svm result:\\n', classification_report(y_test , y_svm_pred ))"
      ],
      "metadata": {
        "colab": {
          "base_uri": "https://localhost:8080/"
        },
        "id": "CuybU4HbaBRS",
        "outputId": "acd2a508-d4ed-43de-de18-c41c472dc2cd"
      },
      "execution_count": null,
      "outputs": [
        {
          "output_type": "stream",
          "name": "stdout",
          "text": [
            "SVM Test Accuracy:  0.5789081885856079\n",
            "svm result:\n",
            "               precision    recall  f1-score   support\n",
            "\n",
            "           0       0.76      0.23      0.35      2015\n",
            "           1       0.55      0.93      0.69      2015\n",
            "\n",
            "    accuracy                           0.58      4030\n",
            "   macro avg       0.65      0.58      0.52      4030\n",
            "weighted avg       0.65      0.58      0.52      4030\n",
            "\n"
          ]
        }
      ]
    },
    {
      "cell_type": "code",
      "source": [
        "svm = SVC(kernel='rbf', gamma=0.001, C=0.45)\n",
        "svm.fit(X_train, y_train)\n",
        "\n",
        "y_svm_pred = svm.predict(X_test)\n",
        "print(\"SVM Test Accuracy: \", accuracy_score(y_test, y_svm_pred))\n",
        "print('svm result:\\n', classification_report(y_test , y_svm_pred ))"
      ],
      "metadata": {
        "colab": {
          "base_uri": "https://localhost:8080/"
        },
        "id": "wnARILxecLJn",
        "outputId": "a8594660-8371-4f35-f940-a686b6d09651"
      },
      "execution_count": null,
      "outputs": [
        {
          "output_type": "stream",
          "name": "stdout",
          "text": [
            "SVM Test Accuracy:  0.9277915632754342\n",
            "svm result:\n",
            "               precision    recall  f1-score   support\n",
            "\n",
            "           0       0.91      0.95      0.93      2015\n",
            "           1       0.94      0.91      0.93      2015\n",
            "\n",
            "    accuracy                           0.93      4030\n",
            "   macro avg       0.93      0.93      0.93      4030\n",
            "weighted avg       0.93      0.93      0.93      4030\n",
            "\n"
          ]
        }
      ]
    },
    {
      "cell_type": "code",
      "source": [
        "svm = SVC(kernel='rbf', gamma=0.01, C=0.3)\n",
        "svm.fit(X_train, y_train)\n",
        "\n",
        "y_svm_pred = svm.predict(X_test)\n",
        "print(\"SVM Test Accuracy: \", accuracy_score(y_test, y_svm_pred))\n",
        "print('svm result:\\n', classification_report(y_test , y_svm_pred ))"
      ],
      "metadata": {
        "colab": {
          "base_uri": "https://localhost:8080/"
        },
        "id": "segqaZ7jdZvi",
        "outputId": "bf2aa5fe-1ca8-4f96-99c1-2558a2d2ef44"
      },
      "execution_count": null,
      "outputs": [
        {
          "output_type": "stream",
          "name": "stdout",
          "text": [
            "SVM Test Accuracy:  0.9382133995037221\n",
            "svm result:\n",
            "               precision    recall  f1-score   support\n",
            "\n",
            "           0       0.92      0.96      0.94      2015\n",
            "           1       0.96      0.92      0.94      2015\n",
            "\n",
            "    accuracy                           0.94      4030\n",
            "   macro avg       0.94      0.94      0.94      4030\n",
            "weighted avg       0.94      0.94      0.94      4030\n",
            "\n"
          ]
        }
      ]
    },
    {
      "cell_type": "code",
      "source": [
        "svm = SVC(kernel='rbf', gamma=0.01, C=0.4)\n",
        "svm.fit(X_train, y_train)\n",
        "\n",
        "y_svm_pred = svm.predict(X_test)\n",
        "print(\"SVM Test Accuracy: \", accuracy_score(y_test, y_svm_pred))\n",
        "print('svm result:\\n', classification_report(y_test , y_svm_pred ))"
      ],
      "metadata": {
        "colab": {
          "base_uri": "https://localhost:8080/"
        },
        "id": "kFy8vYYBdblL",
        "outputId": "9ad208b8-b4bf-4b60-e893-6f60b74bfaf0"
      },
      "execution_count": null,
      "outputs": [
        {
          "output_type": "stream",
          "name": "stdout",
          "text": [
            "SVM Test Accuracy:  0.9397022332506203\n",
            "svm result:\n",
            "               precision    recall  f1-score   support\n",
            "\n",
            "           0       0.92      0.96      0.94      2015\n",
            "           1       0.96      0.92      0.94      2015\n",
            "\n",
            "    accuracy                           0.94      4030\n",
            "   macro avg       0.94      0.94      0.94      4030\n",
            "weighted avg       0.94      0.94      0.94      4030\n",
            "\n"
          ]
        }
      ]
    },
    {
      "cell_type": "code",
      "source": [
        "svm = SVC(kernel='rbf', gamma=0.01, C=0.55)\n",
        "svm.fit(X_train, y_train)\n",
        "\n",
        "y_svm_pred = svm.predict(X_test)\n",
        "print(\"SVM Test Accuracy: \", accuracy_score(y_test, y_svm_pred))\n",
        "print('svm result:\\n', classification_report(y_test , y_svm_pred ))"
      ],
      "metadata": {
        "colab": {
          "base_uri": "https://localhost:8080/"
        },
        "id": "ruI6ZwUIeu7w",
        "outputId": "296af2d6-0f34-4b4e-cdc3-039e203bf499"
      },
      "execution_count": null,
      "outputs": [
        {
          "output_type": "stream",
          "name": "stdout",
          "text": [
            "SVM Test Accuracy:  0.9406947890818859\n",
            "svm result:\n",
            "               precision    recall  f1-score   support\n",
            "\n",
            "           0       0.92      0.96      0.94      2015\n",
            "           1       0.96      0.92      0.94      2015\n",
            "\n",
            "    accuracy                           0.94      4030\n",
            "   macro avg       0.94      0.94      0.94      4030\n",
            "weighted avg       0.94      0.94      0.94      4030\n",
            "\n"
          ]
        }
      ]
    },
    {
      "cell_type": "code",
      "source": [
        "svm = SVC(kernel='rbf', gamma=0.02, C=0.5)\n",
        "svm.fit(X_train, y_train)\n",
        "\n",
        "y_svm_pred = svm.predict(X_test)\n",
        "print(\"SVM Test Accuracy: \", accuracy_score(y_test, y_svm_pred))\n",
        "print('svm result:\\n', classification_report(y_test , y_svm_pred ))"
      ],
      "metadata": {
        "colab": {
          "base_uri": "https://localhost:8080/"
        },
        "id": "3zROsxykew8X",
        "outputId": "c302a880-de11-4280-ee0c-bd43c6d38d42"
      },
      "execution_count": null,
      "outputs": [
        {
          "output_type": "stream",
          "name": "stdout",
          "text": [
            "SVM Test Accuracy:  0.9377171215880893\n",
            "svm result:\n",
            "               precision    recall  f1-score   support\n",
            "\n",
            "           0       0.91      0.97      0.94      2015\n",
            "           1       0.97      0.90      0.94      2015\n",
            "\n",
            "    accuracy                           0.94      4030\n",
            "   macro avg       0.94      0.94      0.94      4030\n",
            "weighted avg       0.94      0.94      0.94      4030\n",
            "\n"
          ]
        }
      ]
    },
    {
      "cell_type": "code",
      "source": [
        "svm = SVC(kernel='rbf', gamma=0.01, C=0.6)\n",
        "svm.fit(X_train, y_train)\n",
        "\n",
        "y_svm_pred = svm.predict(X_test)\n",
        "print(\"SVM Test Accuracy: \", accuracy_score(y_test, y_svm_pred))\n",
        "print('svm result:\\n', classification_report(y_test , y_svm_pred ))"
      ],
      "metadata": {
        "colab": {
          "base_uri": "https://localhost:8080/"
        },
        "id": "EIq1pM4wfJmK",
        "outputId": "77c3e267-2f57-494e-f131-8124d704fc04"
      },
      "execution_count": null,
      "outputs": [
        {
          "output_type": "stream",
          "name": "stdout",
          "text": [
            "SVM Test Accuracy:  0.9404466501240695\n",
            "svm result:\n",
            "               precision    recall  f1-score   support\n",
            "\n",
            "           0       0.92      0.96      0.94      2015\n",
            "           1       0.96      0.92      0.94      2015\n",
            "\n",
            "    accuracy                           0.94      4030\n",
            "   macro avg       0.94      0.94      0.94      4030\n",
            "weighted avg       0.94      0.94      0.94      4030\n",
            "\n"
          ]
        }
      ]
    },
    {
      "cell_type": "code",
      "source": [
        "svm = SVC(kernel='rbf', gamma=0.01, C=0.57)\n",
        "svm.fit(X_train, y_train)\n",
        "\n",
        "y_svm_pred = svm.predict(X_test)\n",
        "print(\"SVM Test Accuracy: \", accuracy_score(y_test, y_svm_pred))\n",
        "print('svm result:\\n', classification_report(y_test , y_svm_pred ))"
      ],
      "metadata": {
        "colab": {
          "base_uri": "https://localhost:8080/"
        },
        "id": "qu3rcYFBfZ71",
        "outputId": "e7628326-786b-439d-9748-6240d631af3e"
      },
      "execution_count": null,
      "outputs": [
        {
          "output_type": "stream",
          "name": "stdout",
          "text": [
            "SVM Test Accuracy:  0.9406947890818859\n",
            "svm result:\n",
            "               precision    recall  f1-score   support\n",
            "\n",
            "           0       0.92      0.96      0.94      2015\n",
            "           1       0.96      0.92      0.94      2015\n",
            "\n",
            "    accuracy                           0.94      4030\n",
            "   macro avg       0.94      0.94      0.94      4030\n",
            "weighted avg       0.94      0.94      0.94      4030\n",
            "\n"
          ]
        }
      ]
    },
    {
      "cell_type": "code",
      "source": [
        "svm = SVC(kernel='rbf', gamma=0.009, C=0.58)\n",
        "svm.fit(X_train, y_train)\n",
        "\n",
        "y_svm_pred = svm.predict(X_test)\n",
        "print(\"SVM Test Accuracy: \", accuracy_score(y_test, y_svm_pred))\n",
        "print('svm result:\\n', classification_report(y_test , y_svm_pred ))"
      ],
      "metadata": {
        "colab": {
          "base_uri": "https://localhost:8080/"
        },
        "id": "tthcfvgmfwn_",
        "outputId": "12c89b5a-33eb-42fd-cfdd-4a930647030e"
      },
      "execution_count": null,
      "outputs": [
        {
          "output_type": "stream",
          "name": "stdout",
          "text": [
            "SVM Test Accuracy:  0.9401985111662531\n",
            "svm result:\n",
            "               precision    recall  f1-score   support\n",
            "\n",
            "           0       0.92      0.96      0.94      2015\n",
            "           1       0.96      0.92      0.94      2015\n",
            "\n",
            "    accuracy                           0.94      4030\n",
            "   macro avg       0.94      0.94      0.94      4030\n",
            "weighted avg       0.94      0.94      0.94      4030\n",
            "\n"
          ]
        }
      ]
    },
    {
      "cell_type": "code",
      "source": [
        "svm = SVC(kernel='rbf', gamma='scale', C=0.58, random_state=42)\n",
        "svm.fit(X_train, y_train)\n",
        "\n",
        "y_svm_pred = svm.predict(X_test)\n",
        "print(\"SVM Test Accuracy: \", accuracy_score(y_test, y_svm_pred))\n",
        "print('svm result:\\n', classification_report(y_test , y_svm_pred ))"
      ],
      "metadata": {
        "colab": {
          "base_uri": "https://localhost:8080/"
        },
        "id": "657ZNsr7iQji",
        "outputId": "ea8b9243-094f-4d15-96da-6f7e7618c0c9"
      },
      "execution_count": null,
      "outputs": [
        {
          "output_type": "stream",
          "name": "stdout",
          "text": [
            "SVM Test Accuracy:  0.9379652605459057\n",
            "svm result:\n",
            "               precision    recall  f1-score   support\n",
            "\n",
            "           0       0.91      0.97      0.94      2015\n",
            "           1       0.97      0.91      0.94      2015\n",
            "\n",
            "    accuracy                           0.94      4030\n",
            "   macro avg       0.94      0.94      0.94      4030\n",
            "weighted avg       0.94      0.94      0.94      4030\n",
            "\n"
          ]
        }
      ]
    },
    {
      "cell_type": "code",
      "source": [
        "# @title Reported results (2)\n",
        "svm = SVC(kernel='rbf', gamma=0.01, C=0.58, degree=7)\n",
        "svm.fit(X_train, y_train)\n",
        "\n",
        "y_svm_pred = svm.predict(X_test)\n",
        "print(\"SVM Test Accuracy: \", accuracy_score(y_test, y_svm_pred))\n",
        "print('svm result:\\n', classification_report(y_test , y_svm_pred ))"
      ],
      "metadata": {
        "colab": {
          "base_uri": "https://localhost:8080/"
        },
        "id": "1Et1tyU5lRCv",
        "outputId": "83cf1fc8-b236-4060-bb8f-c7964c482d56",
        "cellView": "form"
      },
      "execution_count": null,
      "outputs": [
        {
          "output_type": "stream",
          "name": "stdout",
          "text": [
            "SVM Test Accuracy:  0.9406947890818859\n",
            "svm result:\n",
            "               precision    recall  f1-score   support\n",
            "\n",
            "           0       0.92      0.96      0.94      2015\n",
            "           1       0.96      0.92      0.94      2015\n",
            "\n",
            "    accuracy                           0.94      4030\n",
            "   macro avg       0.94      0.94      0.94      4030\n",
            "weighted avg       0.94      0.94      0.94      4030\n",
            "\n"
          ]
        }
      ]
    },
    {
      "cell_type": "code",
      "execution_count": null,
      "metadata": {
        "colab": {
          "base_uri": "https://localhost:8080/",
          "height": 134
        },
        "id": "U30Ncw8jx9Ii",
        "outputId": "6282a59d-ff91-461b-f5a4-a62cd126b8c5"
      },
      "outputs": [
        {
          "name": "stdout",
          "output_type": "stream",
          "text": [
            "Fitting 5 folds for each of 5 candidates, totalling 25 fits\n"
          ]
        },
        {
          "data": {
            "text/html": [
              "<style>#sk-container-id-1 {color: black;background-color: white;}#sk-container-id-1 pre{padding: 0;}#sk-container-id-1 div.sk-toggleable {background-color: white;}#sk-container-id-1 label.sk-toggleable__label {cursor: pointer;display: block;width: 100%;margin-bottom: 0;padding: 0.3em;box-sizing: border-box;text-align: center;}#sk-container-id-1 label.sk-toggleable__label-arrow:before {content: \"▸\";float: left;margin-right: 0.25em;color: #696969;}#sk-container-id-1 label.sk-toggleable__label-arrow:hover:before {color: black;}#sk-container-id-1 div.sk-estimator:hover label.sk-toggleable__label-arrow:before {color: black;}#sk-container-id-1 div.sk-toggleable__content {max-height: 0;max-width: 0;overflow: hidden;text-align: left;background-color: #f0f8ff;}#sk-container-id-1 div.sk-toggleable__content pre {margin: 0.2em;color: black;border-radius: 0.25em;background-color: #f0f8ff;}#sk-container-id-1 input.sk-toggleable__control:checked~div.sk-toggleable__content {max-height: 200px;max-width: 100%;overflow: auto;}#sk-container-id-1 input.sk-toggleable__control:checked~label.sk-toggleable__label-arrow:before {content: \"▾\";}#sk-container-id-1 div.sk-estimator input.sk-toggleable__control:checked~label.sk-toggleable__label {background-color: #d4ebff;}#sk-container-id-1 div.sk-label input.sk-toggleable__control:checked~label.sk-toggleable__label {background-color: #d4ebff;}#sk-container-id-1 input.sk-hidden--visually {border: 0;clip: rect(1px 1px 1px 1px);clip: rect(1px, 1px, 1px, 1px);height: 1px;margin: -1px;overflow: hidden;padding: 0;position: absolute;width: 1px;}#sk-container-id-1 div.sk-estimator {font-family: monospace;background-color: #f0f8ff;border: 1px dotted black;border-radius: 0.25em;box-sizing: border-box;margin-bottom: 0.5em;}#sk-container-id-1 div.sk-estimator:hover {background-color: #d4ebff;}#sk-container-id-1 div.sk-parallel-item::after {content: \"\";width: 100%;border-bottom: 1px solid gray;flex-grow: 1;}#sk-container-id-1 div.sk-label:hover label.sk-toggleable__label {background-color: #d4ebff;}#sk-container-id-1 div.sk-serial::before {content: \"\";position: absolute;border-left: 1px solid gray;box-sizing: border-box;top: 0;bottom: 0;left: 50%;z-index: 0;}#sk-container-id-1 div.sk-serial {display: flex;flex-direction: column;align-items: center;background-color: white;padding-right: 0.2em;padding-left: 0.2em;position: relative;}#sk-container-id-1 div.sk-item {position: relative;z-index: 1;}#sk-container-id-1 div.sk-parallel {display: flex;align-items: stretch;justify-content: center;background-color: white;position: relative;}#sk-container-id-1 div.sk-item::before, #sk-container-id-1 div.sk-parallel-item::before {content: \"\";position: absolute;border-left: 1px solid gray;box-sizing: border-box;top: 0;bottom: 0;left: 50%;z-index: -1;}#sk-container-id-1 div.sk-parallel-item {display: flex;flex-direction: column;z-index: 1;position: relative;background-color: white;}#sk-container-id-1 div.sk-parallel-item:first-child::after {align-self: flex-end;width: 50%;}#sk-container-id-1 div.sk-parallel-item:last-child::after {align-self: flex-start;width: 50%;}#sk-container-id-1 div.sk-parallel-item:only-child::after {width: 0;}#sk-container-id-1 div.sk-dashed-wrapped {border: 1px dashed gray;margin: 0 0.4em 0.5em 0.4em;box-sizing: border-box;padding-bottom: 0.4em;background-color: white;}#sk-container-id-1 div.sk-label label {font-family: monospace;font-weight: bold;display: inline-block;line-height: 1.2em;}#sk-container-id-1 div.sk-label-container {text-align: center;}#sk-container-id-1 div.sk-container {/* jupyter's `normalize.less` sets `[hidden] { display: none; }` but bootstrap.min.css set `[hidden] { display: none !important; }` so we also need the `!important` here to be able to override the default hidden behavior on the sphinx rendered scikit-learn.org. See: https://github.com/scikit-learn/scikit-learn/issues/21755 */display: inline-block !important;position: relative;}#sk-container-id-1 div.sk-text-repr-fallback {display: none;}</style><div id=\"sk-container-id-1\" class=\"sk-top-container\"><div class=\"sk-text-repr-fallback\"><pre>RandomizedSearchCV(cv=5,\n",
              "                   estimator=XGBClassifier(base_score=None, booster=None,\n",
              "                                           callbacks=None,\n",
              "                                           colsample_bylevel=None,\n",
              "                                           colsample_bynode=None,\n",
              "                                           colsample_bytree=None,\n",
              "                                           early_stopping_rounds=None,\n",
              "                                           enable_categorical=False,\n",
              "                                           eval_metric=None, feature_types=None,\n",
              "                                           gamma=None, gpu_id=None,\n",
              "                                           grow_policy=None,\n",
              "                                           importance_type=None,\n",
              "                                           interaction_constraints=None,\n",
              "                                           learning_rate...\n",
              "                                           monotone_constraints=None,\n",
              "                                           n_estimators=100, n_jobs=None,\n",
              "                                           num_parallel_tree=None,\n",
              "                                           predictor=None, random_state=None, ...),\n",
              "                   n_iter=5, n_jobs=-1,\n",
              "                   param_distributions={&#x27;colsample_bytree&#x27;: [0.3, 0.4, 0.5,\n",
              "                                                             0.7],\n",
              "                                        &#x27;gamma&#x27;: [0.0, 0.1, 0.2, 0.3, 0.4],\n",
              "                                        &#x27;learning_rate&#x27;: [0.05, 0.1, 0.15, 0.2,\n",
              "                                                          0.25, 0.3],\n",
              "                                        &#x27;max_depth&#x27;: [3, 4, 5, 6, 8, 10, 12,\n",
              "                                                      15],\n",
              "                                        &#x27;min_child_weight&#x27;: [1, 3, 5, 7]},\n",
              "                   scoring=&#x27;roc_auc&#x27;, verbose=3)</pre><b>In a Jupyter environment, please rerun this cell to show the HTML representation or trust the notebook. <br />On GitHub, the HTML representation is unable to render, please try loading this page with nbviewer.org.</b></div><div class=\"sk-container\" hidden><div class=\"sk-item sk-dashed-wrapped\"><div class=\"sk-label-container\"><div class=\"sk-label sk-toggleable\"><input class=\"sk-toggleable__control sk-hidden--visually\" id=\"sk-estimator-id-1\" type=\"checkbox\" ><label for=\"sk-estimator-id-1\" class=\"sk-toggleable__label sk-toggleable__label-arrow\">RandomizedSearchCV</label><div class=\"sk-toggleable__content\"><pre>RandomizedSearchCV(cv=5,\n",
              "                   estimator=XGBClassifier(base_score=None, booster=None,\n",
              "                                           callbacks=None,\n",
              "                                           colsample_bylevel=None,\n",
              "                                           colsample_bynode=None,\n",
              "                                           colsample_bytree=None,\n",
              "                                           early_stopping_rounds=None,\n",
              "                                           enable_categorical=False,\n",
              "                                           eval_metric=None, feature_types=None,\n",
              "                                           gamma=None, gpu_id=None,\n",
              "                                           grow_policy=None,\n",
              "                                           importance_type=None,\n",
              "                                           interaction_constraints=None,\n",
              "                                           learning_rate...\n",
              "                                           monotone_constraints=None,\n",
              "                                           n_estimators=100, n_jobs=None,\n",
              "                                           num_parallel_tree=None,\n",
              "                                           predictor=None, random_state=None, ...),\n",
              "                   n_iter=5, n_jobs=-1,\n",
              "                   param_distributions={&#x27;colsample_bytree&#x27;: [0.3, 0.4, 0.5,\n",
              "                                                             0.7],\n",
              "                                        &#x27;gamma&#x27;: [0.0, 0.1, 0.2, 0.3, 0.4],\n",
              "                                        &#x27;learning_rate&#x27;: [0.05, 0.1, 0.15, 0.2,\n",
              "                                                          0.25, 0.3],\n",
              "                                        &#x27;max_depth&#x27;: [3, 4, 5, 6, 8, 10, 12,\n",
              "                                                      15],\n",
              "                                        &#x27;min_child_weight&#x27;: [1, 3, 5, 7]},\n",
              "                   scoring=&#x27;roc_auc&#x27;, verbose=3)</pre></div></div></div><div class=\"sk-parallel\"><div class=\"sk-parallel-item\"><div class=\"sk-item\"><div class=\"sk-label-container\"><div class=\"sk-label sk-toggleable\"><input class=\"sk-toggleable__control sk-hidden--visually\" id=\"sk-estimator-id-2\" type=\"checkbox\" ><label for=\"sk-estimator-id-2\" class=\"sk-toggleable__label sk-toggleable__label-arrow\">estimator: XGBClassifier</label><div class=\"sk-toggleable__content\"><pre>XGBClassifier(base_score=None, booster=None, callbacks=None,\n",
              "              colsample_bylevel=None, colsample_bynode=None,\n",
              "              colsample_bytree=None, early_stopping_rounds=None,\n",
              "              enable_categorical=False, eval_metric=None, feature_types=None,\n",
              "              gamma=None, gpu_id=None, grow_policy=None, importance_type=None,\n",
              "              interaction_constraints=None, learning_rate=None, max_bin=None,\n",
              "              max_cat_threshold=None, max_cat_to_onehot=None,\n",
              "              max_delta_step=None, max_depth=None, max_leaves=None,\n",
              "              min_child_weight=None, missing=nan, monotone_constraints=None,\n",
              "              n_estimators=100, n_jobs=None, num_parallel_tree=None,\n",
              "              predictor=None, random_state=None, ...)</pre></div></div></div><div class=\"sk-serial\"><div class=\"sk-item\"><div class=\"sk-estimator sk-toggleable\"><input class=\"sk-toggleable__control sk-hidden--visually\" id=\"sk-estimator-id-3\" type=\"checkbox\" ><label for=\"sk-estimator-id-3\" class=\"sk-toggleable__label sk-toggleable__label-arrow\">XGBClassifier</label><div class=\"sk-toggleable__content\"><pre>XGBClassifier(base_score=None, booster=None, callbacks=None,\n",
              "              colsample_bylevel=None, colsample_bynode=None,\n",
              "              colsample_bytree=None, early_stopping_rounds=None,\n",
              "              enable_categorical=False, eval_metric=None, feature_types=None,\n",
              "              gamma=None, gpu_id=None, grow_policy=None, importance_type=None,\n",
              "              interaction_constraints=None, learning_rate=None, max_bin=None,\n",
              "              max_cat_threshold=None, max_cat_to_onehot=None,\n",
              "              max_delta_step=None, max_depth=None, max_leaves=None,\n",
              "              min_child_weight=None, missing=nan, monotone_constraints=None,\n",
              "              n_estimators=100, n_jobs=None, num_parallel_tree=None,\n",
              "              predictor=None, random_state=None, ...)</pre></div></div></div></div></div></div></div></div></div></div>"
            ],
            "text/plain": [
              "RandomizedSearchCV(cv=5,\n",
              "                   estimator=XGBClassifier(base_score=None, booster=None,\n",
              "                                           callbacks=None,\n",
              "                                           colsample_bylevel=None,\n",
              "                                           colsample_bynode=None,\n",
              "                                           colsample_bytree=None,\n",
              "                                           early_stopping_rounds=None,\n",
              "                                           enable_categorical=False,\n",
              "                                           eval_metric=None, feature_types=None,\n",
              "                                           gamma=None, gpu_id=None,\n",
              "                                           grow_policy=None,\n",
              "                                           importance_type=None,\n",
              "                                           interaction_constraints=None,\n",
              "                                           learning_rate...\n",
              "                                           monotone_constraints=None,\n",
              "                                           n_estimators=100, n_jobs=None,\n",
              "                                           num_parallel_tree=None,\n",
              "                                           predictor=None, random_state=None, ...),\n",
              "                   n_iter=5, n_jobs=-1,\n",
              "                   param_distributions={'colsample_bytree': [0.3, 0.4, 0.5,\n",
              "                                                             0.7],\n",
              "                                        'gamma': [0.0, 0.1, 0.2, 0.3, 0.4],\n",
              "                                        'learning_rate': [0.05, 0.1, 0.15, 0.2,\n",
              "                                                          0.25, 0.3],\n",
              "                                        'max_depth': [3, 4, 5, 6, 8, 10, 12,\n",
              "                                                      15],\n",
              "                                        'min_child_weight': [1, 3, 5, 7]},\n",
              "                   scoring='roc_auc', verbose=3)"
            ]
          },
          "execution_count": 15,
          "metadata": {},
          "output_type": "execute_result"
        }
      ],
      "source": [
        "params = {\n",
        " 'learning_rate' : [0.05,0.10,0.15,0.20,0.25,0.30],\n",
        " 'max_depth' : [ 3, 4, 5, 6, 8, 10, 12, 15],\n",
        " 'min_child_weight' : [ 1, 3, 5, 7 ],\n",
        " 'gamma': [ 0.0, 0.1, 0.2 , 0.3, 0.4 ],\n",
        " 'colsample_bytree' : [ 0.3, 0.4, 0.5 , 0.7 ]\n",
        "}\n",
        "\n",
        "rs_model=RandomizedSearchCV(XGBClassifier(),\n",
        "                            param_distributions=params,n_iter=5,scoring='roc_auc',n_jobs=-1,cv=5,verbose=3)\n",
        "rs_model.fit(X_train, y_train)"
      ]
    },
    {
      "cell_type": "code",
      "execution_count": null,
      "metadata": {
        "colab": {
          "base_uri": "https://localhost:8080/"
        },
        "id": "QsDa7ppfzZ6f",
        "outputId": "e1dc71a4-4ecc-4ebd-d319-b88fcf505b08"
      },
      "outputs": [
        {
          "name": "stdout",
          "output_type": "stream",
          "text": [
            "Best parameters: XGBClassifier(base_score=None, booster=None, callbacks=None,\n",
            "              colsample_bylevel=None, colsample_bynode=None,\n",
            "              colsample_bytree=0.7, early_stopping_rounds=None,\n",
            "              enable_categorical=False, eval_metric=None, feature_types=None,\n",
            "              gamma=0.4, gpu_id=None, grow_policy=None, importance_type=None,\n",
            "              interaction_constraints=None, learning_rate=0.25, max_bin=None,\n",
            "              max_cat_threshold=None, max_cat_to_onehot=None,\n",
            "              max_delta_step=None, max_depth=8, max_leaves=None,\n",
            "              min_child_weight=3, missing=nan, monotone_constraints=None,\n",
            "              n_estimators=100, n_jobs=None, num_parallel_tree=None,\n",
            "              predictor=None, random_state=None, ...)\n"
          ]
        }
      ],
      "source": [
        "print(\"Best parameters:\", rs_model.best_estimator_)"
      ]
    },
    {
      "cell_type": "code",
      "execution_count": null,
      "metadata": {
        "id": "b94xIxDtzfAJ"
      },
      "outputs": [],
      "source": [
        "xgb = rs_model.best_estimator_"
      ]
    },
    {
      "cell_type": "code",
      "execution_count": null,
      "metadata": {
        "id": "Clf_3O70CK5G"
      },
      "outputs": [],
      "source": [
        "y_xgb_pred = xgb.predict(X_test)"
      ]
    },
    {
      "cell_type": "code",
      "execution_count": null,
      "metadata": {
        "colab": {
          "base_uri": "https://localhost:8080/"
        },
        "id": "sooluXHuCLlE",
        "outputId": "42fd1d6e-b011-48a3-d3f2-ecb70b791593"
      },
      "outputs": [
        {
          "name": "stdout",
          "output_type": "stream",
          "text": [
            "XGBoost Test Accuracy:  0.8694789081885856\n",
            "XGBoost Test Result:\n",
            "               precision    recall  f1-score   support\n",
            "\n",
            "           0       0.80      0.99      0.88      2015\n",
            "           1       0.99      0.75      0.85      2015\n",
            "\n",
            "    accuracy                           0.87      4030\n",
            "   macro avg       0.89      0.87      0.87      4030\n",
            "weighted avg       0.89      0.87      0.87      4030\n",
            "\n"
          ]
        }
      ],
      "source": [
        "print(\"XGBoost Test Accuracy: \", accuracy_score(y_test, y_xgb_pred))\n",
        "print('XGBoost Test Result:\\n', classification_report(y_test , y_xgb_pred ))"
      ]
    },
    {
      "cell_type": "code",
      "execution_count": null,
      "metadata": {
        "colab": {
          "base_uri": "https://localhost:8080/"
        },
        "id": "dDUyQreUP9vf",
        "outputId": "299202fc-26c6-44bb-fa04-5e9178cb7c23"
      },
      "outputs": [
        {
          "name": "stdout",
          "output_type": "stream",
          "text": [
            "XGBoost Test Accuracy:  0.8779156327543425\n",
            "XGBoost Test Result:\n",
            "               precision    recall  f1-score   support\n",
            "\n",
            "           0       0.81      0.99      0.89      2015\n",
            "           1       0.99      0.77      0.86      2015\n",
            "\n",
            "    accuracy                           0.88      4030\n",
            "   macro avg       0.90      0.88      0.88      4030\n",
            "weighted avg       0.90      0.88      0.88      4030\n",
            "\n"
          ]
        }
      ],
      "source": [
        "xgb = XGBClassifier(n_estimators=100, learning_rate=0.25, gamma=0.5)\n",
        "xgb.fit(X_train, y_train)\n",
        "y_xgb_pred = xgb.predict(X_test)\n",
        "print(\"XGBoost Test Accuracy: \", accuracy_score(y_test, y_xgb_pred))\n",
        "print('XGBoost Test Result:\\n', classification_report(y_test , y_xgb_pred ))"
      ]
    },
    {
      "cell_type": "code",
      "execution_count": null,
      "metadata": {
        "colab": {
          "base_uri": "https://localhost:8080/"
        },
        "id": "MYuOZzzNQT4g",
        "outputId": "21062ddd-4174-4452-ccfa-f30513db71ca"
      },
      "outputs": [
        {
          "name": "stdout",
          "output_type": "stream",
          "text": [
            "XGBoost Test Accuracy:  0.8516129032258064\n",
            "XGBoost Test Result:\n",
            "               precision    recall  f1-score   support\n",
            "\n",
            "           0       0.78      0.98      0.87      2015\n",
            "           1       0.97      0.73      0.83      2015\n",
            "\n",
            "    accuracy                           0.85      4030\n",
            "   macro avg       0.88      0.85      0.85      4030\n",
            "weighted avg       0.88      0.85      0.85      4030\n",
            "\n"
          ]
        }
      ],
      "source": [
        "xgb = XGBClassifier(n_estimators=100, learning_rate=0.01, gamma=0.5)\n",
        "xgb.fit(X_train, y_train)\n",
        "y_xgb_pred = xgb.predict(X_test)\n",
        "print(\"XGBoost Test Accuracy: \", accuracy_score(y_test, y_xgb_pred))\n",
        "print('XGBoost Test Result:\\n', classification_report(y_test , y_xgb_pred ))"
      ]
    },
    {
      "cell_type": "markdown",
      "metadata": {
        "id": "Bf1-pUFQWMdP"
      },
      "source": [
        "# Using AutoEncoder"
      ]
    },
    {
      "cell_type": "code",
      "execution_count": null,
      "metadata": {
        "id": "FKI2wvqzWnuY"
      },
      "outputs": [],
      "source": [
        "# Standardize the data\n",
        "# scaler = StandardScaler()\n",
        "scaler = MinMaxScaler()\n",
        "X_train_scaled = scaler.fit_transform(X_train)\n",
        "X_test_scaled = scaler.transform(X_test)\n",
        "\n",
        "# Convert to PyTorch tensors\n",
        "X_train_scaled = torch.from_numpy(X_train_scaled).float()\n",
        "X_test_scaled = torch.from_numpy(X_test_scaled).float()"
      ]
    },
    {
      "cell_type": "code",
      "source": [
        "X_train = X_train_scaled\n",
        "X_test = X_test_scaled"
      ],
      "metadata": {
        "id": "DiESNmtWW76g"
      },
      "execution_count": null,
      "outputs": []
    },
    {
      "cell_type": "code",
      "execution_count": null,
      "metadata": {
        "id": "A3TZXxjhWLNt"
      },
      "outputs": [],
      "source": [
        "# Define autoencoder\n",
        "class Autoencoder(nn.Module):\n",
        "    def __init__(self, input_dim, encoding_dim):\n",
        "        super(Autoencoder, self).__init__()\n",
        "\n",
        "        self.encoder = nn.Sequential(\n",
        "            nn.Linear(input_dim, 128),\n",
        "            nn.ReLU(),\n",
        "            nn.Linear(128, encoding_dim)\n",
        "        )\n",
        "\n",
        "        self.decoder = nn.Sequential(\n",
        "            nn.Linear(encoding_dim, 128),\n",
        "            nn.ReLU(),\n",
        "            nn.Linear(128, input_dim),\n",
        "            nn.Sigmoid()\n",
        "        )\n",
        "\n",
        "    def forward(self, x):\n",
        "        encoded = self.encoder(x)\n",
        "        decoded = self.decoder(encoded)\n",
        "        return decoded\n"
      ]
    },
    {
      "cell_type": "code",
      "execution_count": null,
      "metadata": {
        "id": "D-Yw0noXWsM0"
      },
      "outputs": [],
      "source": [
        "# Create and train autoencoder\n",
        "model = Autoencoder(X_train_scaled.shape[1], 32)\n",
        "criterion = nn.BCELoss()\n",
        "optimizer = torch.optim.Adam(model.parameters(), lr=0.001)"
      ]
    },
    {
      "cell_type": "code",
      "execution_count": null,
      "metadata": {
        "id": "8LVgnqlrWs5U"
      },
      "outputs": [],
      "source": [
        "model.train()\n",
        "for epoch in range(100):\n",
        "    recon = model(X_train_scaled)\n",
        "    loss = criterion(recon, X_train_scaled)\n",
        "\n",
        "    optimizer.zero_grad()\n",
        "    loss.backward()\n",
        "    optimizer.step()\n",
        "\n",
        "# Encode training and test data\n",
        "X_train_encoded = model.encoder(X_train_scaled)\n",
        "X_test_encoded = model.encoder(X_test_scaled)"
      ]
    },
    {
      "cell_type": "code",
      "source": [
        "from torch.utils.data import TensorDataset"
      ],
      "metadata": {
        "id": "enOpDcIVadGT"
      },
      "execution_count": null,
      "outputs": []
    },
    {
      "cell_type": "code",
      "source": [
        "# ConvNet Model\n",
        "class ConvNet(nn.Module):\n",
        "    def __init__(self, in_channels=1):\n",
        "      super().__init__()\n",
        "\n",
        "      # self.conv1 = nn.Conv1d(in_channels, 32, 3)\n",
        "      # self.conv2 = nn.Conv1d(32, 64, 3)\n",
        "\n",
        "      self.conv1 = nn.Conv1d(in_channels, 32, 3)\n",
        "      self.conv2 = nn.Conv1d(32, 64, 3)\n",
        "\n",
        "      self.conv_dropout = nn.Dropout(p=0.2)\n",
        "\n",
        "      self.fc1 = nn.Linear(2300 * 32, 128)\n",
        "      self.fc2 = nn.Linear(128, 2)\n",
        "\n",
        "    def forward(self, x):\n",
        "        x = F.relu(self.conv1(x))\n",
        "        x = F.relu(self.conv2(x))\n",
        "        x = F.max_pool1d(x, 2)\n",
        "        x = torch.flatten(x, 1)\n",
        "        x = F.relu(self.fc1(x))\n",
        "        x = self.fc2(x)\n",
        "        return x"
      ],
      "metadata": {
        "id": "DPdqWB1XisLc"
      },
      "execution_count": null,
      "outputs": []
    },
    {
      "cell_type": "code",
      "source": [
        "model = ConvNet(1)\n",
        "\n",
        "# Loss and optimizer\n",
        "criterion = nn.CrossEntropyLoss()\n",
        "# optimizer = torch.optim.Adam(model.parameters())\n",
        "# Optimizer\n",
        "optimizer = torch.optim.Adam(model.parameters(), weight_decay=1e-5)\n",
        "\n",
        "# Batch size\n",
        "batch_size = 64"
      ],
      "metadata": {
        "id": "mFKzALlmiuzn"
      },
      "execution_count": null,
      "outputs": []
    },
    {
      "cell_type": "code",
      "source": [
        "# Define TensorDataset\n",
        "train_dataset = TensorDataset(X_train, y_train)\n",
        "train_loader = DataLoader(train_dataset, batch_size=64)\n",
        "\n",
        "\n",
        "test_dataset = TensorDataset(X_test, y_test)\n",
        "test_loader = DataLoader(test_dataset, batch_size=64)\n"
      ],
      "metadata": {
        "id": "nGcp6BELjH-B"
      },
      "execution_count": null,
      "outputs": []
    },
    {
      "cell_type": "code",
      "source": [
        "# Training loop\n",
        "epochs = 15\n",
        "for epoch in range(epochs):\n",
        "\n",
        "  for batch in train_loader:\n",
        "\n",
        "    inputs, labels = batch\n",
        "\n",
        "    inputs = inputs.unsqueeze(1)\n",
        "    # Forward pass\n",
        "    outputs = model(inputs)\n",
        "    loss = criterion(outputs, labels)\n",
        "\n",
        "    # Backward pass\n",
        "    optimizer.zero_grad()\n",
        "    loss.backward()\n",
        "    optimizer.step()\n",
        "\n",
        "  print(f\"Epoch {epoch+1}, Loss: {loss.item():.4f}\")\n",
        "\n"
      ],
      "metadata": {
        "colab": {
          "base_uri": "https://localhost:8080/"
        },
        "id": "6IgAgvr7UKOt",
        "outputId": "c8fd0ac3-bf81-48ea-e6dc-adfa0ef982a6"
      },
      "execution_count": null,
      "outputs": [
        {
          "output_type": "stream",
          "name": "stdout",
          "text": [
            "Epoch 1, Loss: 0.1665\n",
            "Epoch 2, Loss: 0.1430\n",
            "Epoch 3, Loss: 0.1072\n",
            "Epoch 4, Loss: 0.0819\n",
            "Epoch 5, Loss: 0.0920\n",
            "Epoch 6, Loss: 0.0250\n",
            "Epoch 7, Loss: 0.0292\n",
            "Epoch 8, Loss: 0.0049\n",
            "Epoch 9, Loss: 0.0264\n",
            "Epoch 10, Loss: 0.0053\n",
            "Epoch 11, Loss: 0.0317\n"
          ]
        }
      ]
    },
    {
      "cell_type": "code",
      "source": [
        "test_dataset = TensorDataset(X_test, y_test)\n",
        "test_loader = DataLoader(test_dataset, batch_size=64)"
      ],
      "metadata": {
        "id": "RgJKhZjRfVs4"
      },
      "execution_count": null,
      "outputs": []
    },
    {
      "cell_type": "code",
      "source": [
        "# Testing loop\n",
        "results = []\n",
        "accs = []\n",
        "y_preds = []\n",
        "for batch in test_loader:\n",
        "  inputs, labels = batch\n",
        "  inputs = inputs.unsqueeze(1)\n",
        "  # Forward pass\n",
        "  outputs = model(inputs)\n",
        "\n",
        "  # Compute accuracy\n",
        "  _, y_pred = torch.max(outputs, 1)\n",
        "  # results.append(y_pred == labels)\n",
        "  accuracy = accuracy_score(labels, y_pred)\n",
        "  accs.append(accuracy)\n",
        "  y_preds.extend(y_pred)\n",
        "\n",
        "# # Overall accuracy\n",
        "# test_acc = torch.cat(results).mean()\n",
        "\n",
        "print(sum(accs) / len(accs))\n",
        "# Metrics\n",
        "accuracy = accuracy_score(y_test, y_preds)\n",
        "precision, recall, fscore, _ = precision_recall_fscore_support(y_test, y_preds, average='weighted')\n",
        "\n",
        "print(\"Accuracy: \", accuracy)\n",
        "print(\"Precision: \", precision)\n",
        "print(\"Recall: \", recall)\n",
        "print(\"F1 Score: \", fscore)"
      ],
      "metadata": {
        "id": "z-YEVSwofE3q"
      },
      "execution_count": null,
      "outputs": []
    },
    {
      "cell_type": "code",
      "source": [
        "sum(accs) / len(accs)"
      ],
      "metadata": {
        "colab": {
          "base_uri": "https://localhost:8080/"
        },
        "id": "GfROOtuuhds3",
        "outputId": "5a2b20b4-eac5-4ddc-f4b6-6f28985978a5"
      },
      "execution_count": null,
      "outputs": [
        {
          "output_type": "execute_result",
          "data": {
            "text/plain": [
              "0.8469022017409114"
            ]
          },
          "metadata": {},
          "execution_count": 43
        }
      ]
    },
    {
      "cell_type": "code",
      "source": [
        "# Convert to numpy arrays\n",
        "y_train = np.array(y_train)\n",
        "y_test = np.array(y_test)\n",
        "\n",
        "# Create Tensors from Labels\n",
        "y_train = torch.from_numpy(y_train).long()\n",
        "y_test = torch.from_numpy(y_test).long()"
      ],
      "metadata": {
        "id": "s8BVapQGkwSW"
      },
      "execution_count": null,
      "outputs": []
    },
    {
      "cell_type": "code",
      "execution_count": null,
      "metadata": {
        "id": "D9yAraZ_WkTW",
        "colab": {
          "base_uri": "https://localhost:8080/",
          "height": 248
        },
        "outputId": "d1067f27-2a4e-45af-8ecf-9f3e55afce51"
      },
      "outputs": [
        {
          "output_type": "execute_result",
          "data": {
            "text/plain": [
              "XGBClassifier(base_score=None, booster=None, callbacks=None,\n",
              "              colsample_bylevel=None, colsample_bynode=None,\n",
              "              colsample_bytree=None, early_stopping_rounds=None,\n",
              "              enable_categorical=False, eval_metric=None, feature_types=None,\n",
              "              gamma=None, gpu_id=None, grow_policy=None, importance_type=None,\n",
              "              interaction_constraints=None, learning_rate=0.1, max_bin=None,\n",
              "              max_cat_threshold=None, max_cat_to_onehot=None,\n",
              "              max_delta_step=None, max_depth=None, max_leaves=None,\n",
              "              min_child_weight=None, missing=nan, monotone_constraints=None,\n",
              "              n_estimators=100, n_jobs=None, num_parallel_tree=None,\n",
              "              predictor=None, random_state=None, ...)"
            ],
            "text/html": [
              "<style>#sk-container-id-2 {color: black;background-color: white;}#sk-container-id-2 pre{padding: 0;}#sk-container-id-2 div.sk-toggleable {background-color: white;}#sk-container-id-2 label.sk-toggleable__label {cursor: pointer;display: block;width: 100%;margin-bottom: 0;padding: 0.3em;box-sizing: border-box;text-align: center;}#sk-container-id-2 label.sk-toggleable__label-arrow:before {content: \"▸\";float: left;margin-right: 0.25em;color: #696969;}#sk-container-id-2 label.sk-toggleable__label-arrow:hover:before {color: black;}#sk-container-id-2 div.sk-estimator:hover label.sk-toggleable__label-arrow:before {color: black;}#sk-container-id-2 div.sk-toggleable__content {max-height: 0;max-width: 0;overflow: hidden;text-align: left;background-color: #f0f8ff;}#sk-container-id-2 div.sk-toggleable__content pre {margin: 0.2em;color: black;border-radius: 0.25em;background-color: #f0f8ff;}#sk-container-id-2 input.sk-toggleable__control:checked~div.sk-toggleable__content {max-height: 200px;max-width: 100%;overflow: auto;}#sk-container-id-2 input.sk-toggleable__control:checked~label.sk-toggleable__label-arrow:before {content: \"▾\";}#sk-container-id-2 div.sk-estimator input.sk-toggleable__control:checked~label.sk-toggleable__label {background-color: #d4ebff;}#sk-container-id-2 div.sk-label input.sk-toggleable__control:checked~label.sk-toggleable__label {background-color: #d4ebff;}#sk-container-id-2 input.sk-hidden--visually {border: 0;clip: rect(1px 1px 1px 1px);clip: rect(1px, 1px, 1px, 1px);height: 1px;margin: -1px;overflow: hidden;padding: 0;position: absolute;width: 1px;}#sk-container-id-2 div.sk-estimator {font-family: monospace;background-color: #f0f8ff;border: 1px dotted black;border-radius: 0.25em;box-sizing: border-box;margin-bottom: 0.5em;}#sk-container-id-2 div.sk-estimator:hover {background-color: #d4ebff;}#sk-container-id-2 div.sk-parallel-item::after {content: \"\";width: 100%;border-bottom: 1px solid gray;flex-grow: 1;}#sk-container-id-2 div.sk-label:hover label.sk-toggleable__label {background-color: #d4ebff;}#sk-container-id-2 div.sk-serial::before {content: \"\";position: absolute;border-left: 1px solid gray;box-sizing: border-box;top: 0;bottom: 0;left: 50%;z-index: 0;}#sk-container-id-2 div.sk-serial {display: flex;flex-direction: column;align-items: center;background-color: white;padding-right: 0.2em;padding-left: 0.2em;position: relative;}#sk-container-id-2 div.sk-item {position: relative;z-index: 1;}#sk-container-id-2 div.sk-parallel {display: flex;align-items: stretch;justify-content: center;background-color: white;position: relative;}#sk-container-id-2 div.sk-item::before, #sk-container-id-2 div.sk-parallel-item::before {content: \"\";position: absolute;border-left: 1px solid gray;box-sizing: border-box;top: 0;bottom: 0;left: 50%;z-index: -1;}#sk-container-id-2 div.sk-parallel-item {display: flex;flex-direction: column;z-index: 1;position: relative;background-color: white;}#sk-container-id-2 div.sk-parallel-item:first-child::after {align-self: flex-end;width: 50%;}#sk-container-id-2 div.sk-parallel-item:last-child::after {align-self: flex-start;width: 50%;}#sk-container-id-2 div.sk-parallel-item:only-child::after {width: 0;}#sk-container-id-2 div.sk-dashed-wrapped {border: 1px dashed gray;margin: 0 0.4em 0.5em 0.4em;box-sizing: border-box;padding-bottom: 0.4em;background-color: white;}#sk-container-id-2 div.sk-label label {font-family: monospace;font-weight: bold;display: inline-block;line-height: 1.2em;}#sk-container-id-2 div.sk-label-container {text-align: center;}#sk-container-id-2 div.sk-container {/* jupyter's `normalize.less` sets `[hidden] { display: none; }` but bootstrap.min.css set `[hidden] { display: none !important; }` so we also need the `!important` here to be able to override the default hidden behavior on the sphinx rendered scikit-learn.org. See: https://github.com/scikit-learn/scikit-learn/issues/21755 */display: inline-block !important;position: relative;}#sk-container-id-2 div.sk-text-repr-fallback {display: none;}</style><div id=\"sk-container-id-2\" class=\"sk-top-container\"><div class=\"sk-text-repr-fallback\"><pre>XGBClassifier(base_score=None, booster=None, callbacks=None,\n",
              "              colsample_bylevel=None, colsample_bynode=None,\n",
              "              colsample_bytree=None, early_stopping_rounds=None,\n",
              "              enable_categorical=False, eval_metric=None, feature_types=None,\n",
              "              gamma=None, gpu_id=None, grow_policy=None, importance_type=None,\n",
              "              interaction_constraints=None, learning_rate=0.1, max_bin=None,\n",
              "              max_cat_threshold=None, max_cat_to_onehot=None,\n",
              "              max_delta_step=None, max_depth=None, max_leaves=None,\n",
              "              min_child_weight=None, missing=nan, monotone_constraints=None,\n",
              "              n_estimators=100, n_jobs=None, num_parallel_tree=None,\n",
              "              predictor=None, random_state=None, ...)</pre><b>In a Jupyter environment, please rerun this cell to show the HTML representation or trust the notebook. <br />On GitHub, the HTML representation is unable to render, please try loading this page with nbviewer.org.</b></div><div class=\"sk-container\" hidden><div class=\"sk-item\"><div class=\"sk-estimator sk-toggleable\"><input class=\"sk-toggleable__control sk-hidden--visually\" id=\"sk-estimator-id-2\" type=\"checkbox\" checked><label for=\"sk-estimator-id-2\" class=\"sk-toggleable__label sk-toggleable__label-arrow\">XGBClassifier</label><div class=\"sk-toggleable__content\"><pre>XGBClassifier(base_score=None, booster=None, callbacks=None,\n",
              "              colsample_bylevel=None, colsample_bynode=None,\n",
              "              colsample_bytree=None, early_stopping_rounds=None,\n",
              "              enable_categorical=False, eval_metric=None, feature_types=None,\n",
              "              gamma=None, gpu_id=None, grow_policy=None, importance_type=None,\n",
              "              interaction_constraints=None, learning_rate=0.1, max_bin=None,\n",
              "              max_cat_threshold=None, max_cat_to_onehot=None,\n",
              "              max_delta_step=None, max_depth=None, max_leaves=None,\n",
              "              min_child_weight=None, missing=nan, monotone_constraints=None,\n",
              "              n_estimators=100, n_jobs=None, num_parallel_tree=None,\n",
              "              predictor=None, random_state=None, ...)</pre></div></div></div></div></div>"
            ]
          },
          "metadata": {},
          "execution_count": 70
        }
      ],
      "source": [
        "# Train classifiers\n",
        "rf = RandomForestClassifier(n_estimators=100, random_state=42)\n",
        "rf.fit(X_train_encoded.detach().numpy(), y_train.detach().numpy())\n",
        "\n",
        "svm = SVC(gamma='auto')\n",
        "svm.fit(X_train_encoded.detach().numpy(), y_train.detach().numpy())\n",
        "\n",
        "knn = KNeighborsClassifier(n_neighbors=5)\n",
        "knn.fit(X_train_encoded.detach().numpy(), y_train.detach().numpy())\n",
        "\n",
        "xgb = XGBClassifier(n_estimators=100, learning_rate=0.1)\n",
        "xgb.fit(X_train_encoded.detach().numpy(), y_train.detach().numpy())"
      ]
    },
    {
      "cell_type": "markdown",
      "source": [
        "## Reported results (3)"
      ],
      "metadata": {
        "id": "FT86F85idS6L"
      }
    },
    {
      "cell_type": "code",
      "execution_count": null,
      "metadata": {
        "id": "KAEFjnPEWa_b",
        "colab": {
          "base_uri": "https://localhost:8080/"
        },
        "outputId": "3f2cd086-f4ed-4873-ea3a-fea8a60f69c7"
      },
      "outputs": [
        {
          "output_type": "stream",
          "name": "stdout",
          "text": [
            "Random Forest Test Accuracy after AutoEncoder:  0.8831265508684863\n",
            "SVM Test Accuracy after AutoEncoder:  0.5057071960297767\n",
            "KNN Test Accuracy after AutoEncoder:  0.8786600496277915\n",
            "XGBoost Test Accuracy after AutoEncoder:  0.896029776674938\n"
          ]
        }
      ],
      "source": [
        "# Evaluate on test set\n",
        "y_rf_pred = rf.predict(X_test_encoded.detach().numpy())\n",
        "y_svm_pred = svm.predict(X_test_encoded.detach().numpy())\n",
        "y_knn_pred = knn.predict(X_test_encoded.detach().numpy())\n",
        "y_xgb_pred = xgb.predict(X_test_encoded.detach().numpy())\n",
        "print(\"Random Forest Test Accuracy after AutoEncoder: \", accuracy_score(y_test, y_rf_pred))\n",
        "print(\"SVM Test Accuracy after AutoEncoder: \", accuracy_score(y_test, y_svm_pred))\n",
        "print(\"KNN Test Accuracy after AutoEncoder: \", accuracy_score(y_test, y_knn_pred))\n",
        "print(\"XGBoost Test Accuracy after AutoEncoder: \", accuracy_score(y_test, y_xgb_pred))"
      ]
    },
    {
      "cell_type": "code",
      "source": [
        "print('RF result:\\n', classification_report(y_test , y_rf_pred ))\n",
        "print('svm result:\\n', classification_report(y_test , y_svm_pred ))\n",
        "print('knn result:\\n', classification_report(y_test , y_knn_pred ))\n",
        "print('xgb result:\\n', classification_report(y_test , y_xgb_pred ))"
      ],
      "metadata": {
        "colab": {
          "base_uri": "https://localhost:8080/"
        },
        "id": "B77tHsxumUg0",
        "outputId": "a95770f1-b264-4991-9922-697f7b74e5c5"
      },
      "execution_count": null,
      "outputs": [
        {
          "output_type": "stream",
          "name": "stdout",
          "text": [
            "RF result:\n",
            "               precision    recall  f1-score   support\n",
            "\n",
            "           0       0.82      0.98      0.89      2015\n",
            "           1       0.98      0.78      0.87      2015\n",
            "\n",
            "    accuracy                           0.88      4030\n",
            "   macro avg       0.90      0.88      0.88      4030\n",
            "weighted avg       0.90      0.88      0.88      4030\n",
            "\n",
            "svm result:\n",
            "               precision    recall  f1-score   support\n",
            "\n",
            "           0       0.50      1.00      0.67      2015\n",
            "           1       1.00      0.01      0.02      2015\n",
            "\n",
            "    accuracy                           0.51      4030\n",
            "   macro avg       0.75      0.51      0.35      4030\n",
            "weighted avg       0.75      0.51      0.35      4030\n",
            "\n",
            "knn result:\n",
            "               precision    recall  f1-score   support\n",
            "\n",
            "           0       0.82      0.97      0.89      2015\n",
            "           1       0.96      0.79      0.87      2015\n",
            "\n",
            "    accuracy                           0.88      4030\n",
            "   macro avg       0.89      0.88      0.88      4030\n",
            "weighted avg       0.89      0.88      0.88      4030\n",
            "\n",
            "xgb result:\n",
            "               precision    recall  f1-score   support\n",
            "\n",
            "           0       0.84      0.98      0.90      2015\n",
            "           1       0.98      0.81      0.89      2015\n",
            "\n",
            "    accuracy                           0.90      4030\n",
            "   macro avg       0.91      0.90      0.90      4030\n",
            "weighted avg       0.91      0.90      0.90      4030\n",
            "\n"
          ]
        }
      ]
    },
    {
      "cell_type": "markdown",
      "source": [
        "## More evaluations"
      ],
      "metadata": {
        "id": "CgBPdw8DdcIa"
      }
    },
    {
      "cell_type": "code",
      "source": [
        "svm = SVC(kernel='rbf', gamma=0.01, C=0.58, degree=7)\n",
        "svm.fit(X_train_encoded.detach().numpy(), y_train)\n",
        "\n",
        "y_svm_pred = svm.predict(X_test_encoded.detach().numpy())\n",
        "print(\"SVM Test Accuracy: \", accuracy_score(y_test, y_svm_pred))\n",
        "print('svm result:\\n', classification_report(y_test , y_svm_pred ))"
      ],
      "metadata": {
        "colab": {
          "base_uri": "https://localhost:8080/"
        },
        "id": "jC66NppTn1bs",
        "outputId": "12507389-cfdc-4954-b028-fcd23f9d22ba"
      },
      "execution_count": null,
      "outputs": [
        {
          "output_type": "stream",
          "name": "stdout",
          "text": [
            "SVM Test Accuracy:  0.5245657568238213\n",
            "svm result:\n",
            "               precision    recall  f1-score   support\n",
            "\n",
            "           0       0.51      1.00      0.68      2015\n",
            "           1       1.00      0.05      0.09      2015\n",
            "\n",
            "    accuracy                           0.52      4030\n",
            "   macro avg       0.76      0.52      0.39      4030\n",
            "weighted avg       0.76      0.52      0.39      4030\n",
            "\n"
          ]
        }
      ]
    },
    {
      "cell_type": "code",
      "source": [
        "# Create MLP\n",
        "mlp = MLPClassifier(hidden_layer_sizes=(100,), activation='relu', solver='adam', max_iter=500)\n",
        "\n",
        "# Train\n",
        "mlp.fit(X_train_encoded.detach().numpy(), y_train)\n",
        "\n",
        "# Predict on test set\n",
        "y_pred = mlp.predict(X_test_encoded.detach().numpy())\n",
        "\n",
        "# Evaluate\n",
        "# print(\"MLP Test accuracy: {:.2f}%\".format(mlp.score(X_test, y_test)*100))\n",
        "print(\"MLP Test Accuracy: \", accuracy_score(y_test, y_pred))\n",
        "print('MLP Test Result:\\n', classification_report(y_test , y_pred ))"
      ],
      "metadata": {
        "colab": {
          "base_uri": "https://localhost:8080/"
        },
        "id": "dmy1O4A_roOp",
        "outputId": "78f76227-9713-4128-944b-7efabc4ec76c"
      },
      "execution_count": null,
      "outputs": [
        {
          "output_type": "stream",
          "name": "stdout",
          "text": [
            "MLP Test Accuracy:  0.9091811414392059\n",
            "MLP Test Result:\n",
            "               precision    recall  f1-score   support\n",
            "\n",
            "           0       0.86      0.98      0.91      2015\n",
            "           1       0.97      0.84      0.90      2015\n",
            "\n",
            "    accuracy                           0.91      4030\n",
            "   macro avg       0.92      0.91      0.91      4030\n",
            "weighted avg       0.92      0.91      0.91      4030\n",
            "\n"
          ]
        }
      ]
    },
    {
      "cell_type": "markdown",
      "metadata": {
        "id": "Cr-PauE7tAD_"
      },
      "source": [
        "# Using AutoEncoder v2"
      ]
    },
    {
      "cell_type": "code",
      "source": [
        "# Create Tensors from Labels\n",
        "y_train = torch.from_numpy(y_train)\n",
        "y_test = torch.from_numpy(y_test)"
      ],
      "metadata": {
        "id": "VjgT3dE3j-ng"
      },
      "execution_count": null,
      "outputs": []
    },
    {
      "cell_type": "code",
      "execution_count": null,
      "metadata": {
        "id": "EEjDlOdatAD_"
      },
      "outputs": [],
      "source": [
        "# Standardize the data\n",
        "scaler = StandardScaler()\n",
        "X_train_scaled = scaler.fit_transform(X_train)\n",
        "X_test_scaled = scaler.transform(X_test)\n",
        "\n",
        "# Convert to PyTorch tensors\n",
        "X_train_scaled = torch.from_numpy(X_train_scaled).float()\n",
        "X_test_scaled = torch.from_numpy(X_test_scaled).float()"
      ]
    },
    {
      "cell_type": "code",
      "execution_count": null,
      "metadata": {
        "id": "eFVN4ieUtAEA"
      },
      "outputs": [],
      "source": [
        "# Define autoencoder\n",
        "class Autoencoder(nn.Module):\n",
        "    def __init__(self, input_dim, encoding_dim):\n",
        "        super(Autoencoder, self).__init__()\n",
        "\n",
        "        self.encoder = nn.Sequential(\n",
        "            nn.Linear(input_dim, 128),\n",
        "            nn.ReLU(),\n",
        "            nn.Linear(128, encoding_dim)\n",
        "        )\n",
        "\n",
        "        self.decoder = nn.Sequential(\n",
        "            nn.Linear(encoding_dim, 128),\n",
        "            nn.ReLU(),\n",
        "            nn.Linear(128, input_dim),\n",
        "            nn.Sigmoid()\n",
        "        )\n",
        "\n",
        "    def forward(self, x):\n",
        "        encoded = self.encoder(x)\n",
        "        decoded = self.decoder(encoded)\n",
        "        return decoded"
      ]
    },
    {
      "cell_type": "code",
      "execution_count": null,
      "metadata": {
        "id": "2_bobiu8tAEA"
      },
      "outputs": [],
      "source": [
        "# Create and train autoencoder\n",
        "model = Autoencoder(X_train_scaled.shape[1], 1024)\n",
        "criterion = nn.BCELoss()\n",
        "optimizer = torch.optim.Adam(model.parameters(), lr=0.001)"
      ]
    },
    {
      "cell_type": "code",
      "execution_count": null,
      "metadata": {
        "id": "1pzCyj_JtAEA"
      },
      "outputs": [],
      "source": [
        "model.train()\n",
        "for epoch in range(100):\n",
        "    recon = model(X_train_scaled)\n",
        "    loss = criterion(recon, X_train_scaled)\n",
        "\n",
        "    optimizer.zero_grad()\n",
        "    loss.backward()\n",
        "    optimizer.step()\n",
        "\n",
        "# Encode training and test data\n",
        "X_train_encoded = model.encoder(X_train_scaled)\n",
        "X_test_encoded = model.encoder(X_test_scaled)"
      ]
    },
    {
      "cell_type": "code",
      "execution_count": null,
      "metadata": {
        "id": "hNN5PAPdtAEA"
      },
      "outputs": [],
      "source": [
        "# Convert to numpy arrays\n",
        "y_train = np.array(y_train)\n",
        "y_test = np.array(y_test)\n",
        "\n",
        "# Create Tensors from Labels\n",
        "y_train = torch.from_numpy(y_train).long()\n",
        "y_test = torch.from_numpy(y_test).long()"
      ]
    },
    {
      "cell_type": "code",
      "execution_count": null,
      "metadata": {
        "colab": {
          "base_uri": "https://localhost:8080/",
          "height": 75
        },
        "id": "YWxA3RKmtAEA",
        "outputId": "2124d1d0-00ee-4f23-fc33-9dfdfcc3f735"
      },
      "outputs": [
        {
          "data": {
            "text/html": [
              "<style>#sk-container-id-3 {color: black;background-color: white;}#sk-container-id-3 pre{padding: 0;}#sk-container-id-3 div.sk-toggleable {background-color: white;}#sk-container-id-3 label.sk-toggleable__label {cursor: pointer;display: block;width: 100%;margin-bottom: 0;padding: 0.3em;box-sizing: border-box;text-align: center;}#sk-container-id-3 label.sk-toggleable__label-arrow:before {content: \"▸\";float: left;margin-right: 0.25em;color: #696969;}#sk-container-id-3 label.sk-toggleable__label-arrow:hover:before {color: black;}#sk-container-id-3 div.sk-estimator:hover label.sk-toggleable__label-arrow:before {color: black;}#sk-container-id-3 div.sk-toggleable__content {max-height: 0;max-width: 0;overflow: hidden;text-align: left;background-color: #f0f8ff;}#sk-container-id-3 div.sk-toggleable__content pre {margin: 0.2em;color: black;border-radius: 0.25em;background-color: #f0f8ff;}#sk-container-id-3 input.sk-toggleable__control:checked~div.sk-toggleable__content {max-height: 200px;max-width: 100%;overflow: auto;}#sk-container-id-3 input.sk-toggleable__control:checked~label.sk-toggleable__label-arrow:before {content: \"▾\";}#sk-container-id-3 div.sk-estimator input.sk-toggleable__control:checked~label.sk-toggleable__label {background-color: #d4ebff;}#sk-container-id-3 div.sk-label input.sk-toggleable__control:checked~label.sk-toggleable__label {background-color: #d4ebff;}#sk-container-id-3 input.sk-hidden--visually {border: 0;clip: rect(1px 1px 1px 1px);clip: rect(1px, 1px, 1px, 1px);height: 1px;margin: -1px;overflow: hidden;padding: 0;position: absolute;width: 1px;}#sk-container-id-3 div.sk-estimator {font-family: monospace;background-color: #f0f8ff;border: 1px dotted black;border-radius: 0.25em;box-sizing: border-box;margin-bottom: 0.5em;}#sk-container-id-3 div.sk-estimator:hover {background-color: #d4ebff;}#sk-container-id-3 div.sk-parallel-item::after {content: \"\";width: 100%;border-bottom: 1px solid gray;flex-grow: 1;}#sk-container-id-3 div.sk-label:hover label.sk-toggleable__label {background-color: #d4ebff;}#sk-container-id-3 div.sk-serial::before {content: \"\";position: absolute;border-left: 1px solid gray;box-sizing: border-box;top: 0;bottom: 0;left: 50%;z-index: 0;}#sk-container-id-3 div.sk-serial {display: flex;flex-direction: column;align-items: center;background-color: white;padding-right: 0.2em;padding-left: 0.2em;position: relative;}#sk-container-id-3 div.sk-item {position: relative;z-index: 1;}#sk-container-id-3 div.sk-parallel {display: flex;align-items: stretch;justify-content: center;background-color: white;position: relative;}#sk-container-id-3 div.sk-item::before, #sk-container-id-3 div.sk-parallel-item::before {content: \"\";position: absolute;border-left: 1px solid gray;box-sizing: border-box;top: 0;bottom: 0;left: 50%;z-index: -1;}#sk-container-id-3 div.sk-parallel-item {display: flex;flex-direction: column;z-index: 1;position: relative;background-color: white;}#sk-container-id-3 div.sk-parallel-item:first-child::after {align-self: flex-end;width: 50%;}#sk-container-id-3 div.sk-parallel-item:last-child::after {align-self: flex-start;width: 50%;}#sk-container-id-3 div.sk-parallel-item:only-child::after {width: 0;}#sk-container-id-3 div.sk-dashed-wrapped {border: 1px dashed gray;margin: 0 0.4em 0.5em 0.4em;box-sizing: border-box;padding-bottom: 0.4em;background-color: white;}#sk-container-id-3 div.sk-label label {font-family: monospace;font-weight: bold;display: inline-block;line-height: 1.2em;}#sk-container-id-3 div.sk-label-container {text-align: center;}#sk-container-id-3 div.sk-container {/* jupyter's `normalize.less` sets `[hidden] { display: none; }` but bootstrap.min.css set `[hidden] { display: none !important; }` so we also need the `!important` here to be able to override the default hidden behavior on the sphinx rendered scikit-learn.org. See: https://github.com/scikit-learn/scikit-learn/issues/21755 */display: inline-block !important;position: relative;}#sk-container-id-3 div.sk-text-repr-fallback {display: none;}</style><div id=\"sk-container-id-3\" class=\"sk-top-container\"><div class=\"sk-text-repr-fallback\"><pre>MLPClassifier(max_iter=500)</pre><b>In a Jupyter environment, please rerun this cell to show the HTML representation or trust the notebook. <br />On GitHub, the HTML representation is unable to render, please try loading this page with nbviewer.org.</b></div><div class=\"sk-container\" hidden><div class=\"sk-item\"><div class=\"sk-estimator sk-toggleable\"><input class=\"sk-toggleable__control sk-hidden--visually\" id=\"sk-estimator-id-3\" type=\"checkbox\" checked><label for=\"sk-estimator-id-3\" class=\"sk-toggleable__label sk-toggleable__label-arrow\">MLPClassifier</label><div class=\"sk-toggleable__content\"><pre>MLPClassifier(max_iter=500)</pre></div></div></div></div></div>"
            ],
            "text/plain": [
              "MLPClassifier(max_iter=500)"
            ]
          },
          "execution_count": 87,
          "metadata": {},
          "output_type": "execute_result"
        }
      ],
      "source": [
        "# Train classifiers\n",
        "rf = RandomForestClassifier(n_estimators=100, random_state=42)\n",
        "rf.fit(X_train_encoded.detach().numpy(), y_train.detach().numpy())\n",
        "\n",
        "svm = SVC(gamma='auto')\n",
        "svm.fit(X_train_encoded.detach().numpy(), y_train.detach().numpy())\n",
        "\n",
        "knn = KNeighborsClassifier(n_neighbors=5)\n",
        "knn.fit(X_train_encoded.detach().numpy(), y_train.detach().numpy())\n",
        "\n",
        "xgb = XGBClassifier(n_estimators=100, learning_rate=0.1)\n",
        "xgb.fit(X_train_encoded.detach().numpy(), y_train.detach().numpy())\n",
        "\n",
        "mlp = MLPClassifier(hidden_layer_sizes=(100,), activation='relu', solver='adam', max_iter=500)\n",
        "mlp.fit(X_train_encoded.detach().numpy(), y_train)"
      ]
    },
    {
      "cell_type": "code",
      "execution_count": null,
      "metadata": {
        "colab": {
          "base_uri": "https://localhost:8080/"
        },
        "id": "c7Fd9D1EtAEA",
        "outputId": "e7872f23-c5fe-4ff8-b5bf-095553dbf40d"
      },
      "outputs": [
        {
          "name": "stdout",
          "output_type": "stream",
          "text": [
            "Random Forest Test Accuracy after AutoEncoder:  0.886848635235732\n",
            "SVM Test Accuracy after AutoEncoder:  0.5925558312655087\n",
            "KNN Test Accuracy after AutoEncoder:  0.8774193548387097\n",
            "XGBoost Test Accuracy after AutoEncoder:  0.9109181141439205\n",
            "MLP Test Accuracy after AutoEncoder:  0.896029776674938\n"
          ]
        }
      ],
      "source": [
        "# Evaluate on test set\n",
        "y_rf_pred = rf.predict(X_test_encoded.detach().numpy())\n",
        "y_svm_pred = svm.predict(X_test_encoded.detach().numpy())\n",
        "y_knn_pred = knn.predict(X_test_encoded.detach().numpy())\n",
        "y_xgb_pred = xgb.predict(X_test_encoded.detach().numpy())\n",
        "y_mlp_pred = mlp.predict(X_test_encoded.detach().numpy())\n",
        "print(\"Random Forest Test Accuracy after AutoEncoder: \", accuracy_score(y_test, y_rf_pred))\n",
        "print(\"SVM Test Accuracy after AutoEncoder: \", accuracy_score(y_test, y_svm_pred))\n",
        "print(\"KNN Test Accuracy after AutoEncoder: \", accuracy_score(y_test, y_knn_pred))\n",
        "print(\"XGBoost Test Accuracy after AutoEncoder: \", accuracy_score(y_test, y_xgb_pred))\n",
        "print(\"MLP Test Accuracy after AutoEncoder: \", accuracy_score(y_test, y_mlp_pred))"
      ]
    },
    {
      "cell_type": "code",
      "execution_count": null,
      "metadata": {
        "colab": {
          "base_uri": "https://localhost:8080/"
        },
        "id": "f6mYgHNBtAEB",
        "outputId": "9acfbeea-ad1a-4f75-d92a-406321a90090"
      },
      "outputs": [
        {
          "name": "stdout",
          "output_type": "stream",
          "text": [
            "RF result:\n",
            "               precision    recall  f1-score   support\n",
            "\n",
            "           0       0.82      0.99      0.90      2015\n",
            "           1       0.98      0.79      0.87      2015\n",
            "\n",
            "    accuracy                           0.89      4030\n",
            "   macro avg       0.90      0.89      0.89      4030\n",
            "weighted avg       0.90      0.89      0.89      4030\n",
            "\n",
            "svm result:\n",
            "               precision    recall  f1-score   support\n",
            "\n",
            "           0       0.55      1.00      0.71      2015\n",
            "           1       1.00      0.19      0.31      2015\n",
            "\n",
            "    accuracy                           0.59      4030\n",
            "   macro avg       0.77      0.59      0.51      4030\n",
            "weighted avg       0.77      0.59      0.51      4030\n",
            "\n",
            "knn result:\n",
            "               precision    recall  f1-score   support\n",
            "\n",
            "           0       0.82      0.97      0.89      2015\n",
            "           1       0.97      0.78      0.86      2015\n",
            "\n",
            "    accuracy                           0.88      4030\n",
            "   macro avg       0.89      0.88      0.88      4030\n",
            "weighted avg       0.89      0.88      0.88      4030\n",
            "\n",
            "xgb result:\n",
            "               precision    recall  f1-score   support\n",
            "\n",
            "           0       0.86      0.99      0.92      2015\n",
            "           1       0.98      0.84      0.90      2015\n",
            "\n",
            "    accuracy                           0.91      4030\n",
            "   macro avg       0.92      0.91      0.91      4030\n",
            "weighted avg       0.92      0.91      0.91      4030\n",
            "\n",
            "MLP Result:\n",
            "               precision    recall  f1-score   support\n",
            "\n",
            "           0       0.84      0.98      0.90      2015\n",
            "           1       0.98      0.81      0.89      2015\n",
            "\n",
            "    accuracy                           0.90      4030\n",
            "   macro avg       0.91      0.90      0.90      4030\n",
            "weighted avg       0.91      0.90      0.90      4030\n",
            "\n"
          ]
        }
      ],
      "source": [
        "print('RF result:\\n', classification_report(y_test , y_rf_pred ))\n",
        "print('svm result:\\n', classification_report(y_test , y_svm_pred ))\n",
        "print('knn result:\\n', classification_report(y_test , y_knn_pred ))\n",
        "print('xgb result:\\n', classification_report(y_test , y_xgb_pred ))\n",
        "print('MLP Result:\\n', classification_report(y_test , y_mlp_pred ))"
      ]
    },
    {
      "cell_type": "code",
      "execution_count": null,
      "metadata": {
        "colab": {
          "base_uri": "https://localhost:8080/"
        },
        "id": "NM2iBvHCtAEB",
        "outputId": "12507389-cfdc-4954-b028-fcd23f9d22ba"
      },
      "outputs": [
        {
          "name": "stdout",
          "output_type": "stream",
          "text": [
            "SVM Test Accuracy:  0.5245657568238213\n",
            "svm result:\n",
            "               precision    recall  f1-score   support\n",
            "\n",
            "           0       0.51      1.00      0.68      2015\n",
            "           1       1.00      0.05      0.09      2015\n",
            "\n",
            "    accuracy                           0.52      4030\n",
            "   macro avg       0.76      0.52      0.39      4030\n",
            "weighted avg       0.76      0.52      0.39      4030\n",
            "\n"
          ]
        }
      ],
      "source": [
        "svm = SVC(kernel='rbf', gamma=0.01, C=0.58, degree=7)\n",
        "svm.fit(X_train_encoded.detach().numpy(), y_train)\n",
        "\n",
        "y_svm_pred = svm.predict(X_test_encoded.detach().numpy())\n",
        "print(\"SVM Test Accuracy: \", accuracy_score(y_test, y_svm_pred))\n",
        "print('svm result:\\n', classification_report(y_test , y_svm_pred ))"
      ]
    },
    {
      "cell_type": "code",
      "execution_count": null,
      "metadata": {
        "colab": {
          "base_uri": "https://localhost:8080/"
        },
        "id": "2SHo_Kr0tAEB",
        "outputId": "78f76227-9713-4128-944b-7efabc4ec76c"
      },
      "outputs": [
        {
          "name": "stdout",
          "output_type": "stream",
          "text": [
            "MLP Test Accuracy:  0.9091811414392059\n",
            "MLP Test Result:\n",
            "               precision    recall  f1-score   support\n",
            "\n",
            "           0       0.86      0.98      0.91      2015\n",
            "           1       0.97      0.84      0.90      2015\n",
            "\n",
            "    accuracy                           0.91      4030\n",
            "   macro avg       0.92      0.91      0.91      4030\n",
            "weighted avg       0.92      0.91      0.91      4030\n",
            "\n"
          ]
        }
      ],
      "source": [
        "# Create MLP\n",
        "mlp = MLPClassifier(hidden_layer_sizes=(100,), activation='relu', solver='adam', max_iter=500)\n",
        "\n",
        "# Train\n",
        "mlp.fit(X_train_encoded.detach().numpy(), y_train)\n",
        "\n",
        "# Predict on test set\n",
        "y_pred = mlp.predict(X_test_encoded.detach().numpy())\n",
        "\n",
        "# Evaluate\n",
        "# print(\"MLP Test accuracy: {:.2f}%\".format(mlp.score(X_test, y_test)*100))\n",
        "print(\"MLP Test Accuracy: \", accuracy_score(y_test, y_pred))\n",
        "print('MLP Test Result:\\n', classification_report(y_test , y_pred ))"
      ]
    }
  ]
}